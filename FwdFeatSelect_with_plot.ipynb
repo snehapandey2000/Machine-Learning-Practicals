{
  "nbformat": 4,
  "nbformat_minor": 0,
  "metadata": {
    "colab": {
      "provenance": []
    },
    "kernelspec": {
      "name": "python3",
      "display_name": "Python 3"
    },
    "language_info": {
      "name": "python"
    }
  },
  "cells": [
    {
      "cell_type": "code",
      "execution_count": null,
      "metadata": {
        "id": "NtNXF9jFYQCZ"
      },
      "outputs": [],
      "source": [
        "from sklearn.datasets import load_breast_cancer\n",
        "from sklearn.datasets import make_classification\n",
        "from sklearn.model_selection import train_test_split\n",
        "from sklearn.linear_model import LogisticRegression\n",
        "from sklearn.metrics import accuracy_score"
      ]
    },
    {
      "cell_type": "code",
      "source": [
        "data = load_breast_cancer()"
      ],
      "metadata": {
        "id": "Pck1F4zTfxPW"
      },
      "execution_count": null,
      "outputs": []
    },
    {
      "cell_type": "code",
      "source": [
        "X_train, X_test, y_train, y_test = train_test_split(data.data, data.target, test_size=0.2, random_state=42)"
      ],
      "metadata": {
        "id": "SExnyw11f0Re"
      },
      "execution_count": null,
      "outputs": []
    },
    {
      "cell_type": "code",
      "source": [
        "model = LogisticRegression(solver='lbfgs', max_iter=3000)\n",
        "selected_features = []"
      ],
      "metadata": {
        "id": "UKpHse8Zf3zd"
      },
      "execution_count": null,
      "outputs": []
    },
    {
      "cell_type": "code",
      "source": [
        "data.data.shape"
      ],
      "metadata": {
        "colab": {
          "base_uri": "https://localhost:8080/"
        },
        "id": "buxWL5by58zk",
        "outputId": "d61d96e6-7569-4b0f-f3b4-bb23a395ec29"
      },
      "execution_count": null,
      "outputs": [
        {
          "output_type": "execute_result",
          "data": {
            "text/plain": [
              "(569, 30)"
            ]
          },
          "metadata": {},
          "execution_count": 5
        }
      ]
    },
    {
      "cell_type": "code",
      "source": [
        "perf = []\n",
        "count = 0"
      ],
      "metadata": {
        "id": "1lgQBQncf34v"
      },
      "execution_count": null,
      "outputs": []
    },
    {
      "cell_type": "code",
      "source": [
        "count"
      ],
      "metadata": {
        "colab": {
          "base_uri": "https://localhost:8080/"
        },
        "id": "5bPS41z-5wAj",
        "outputId": "026c8ee1-556a-4641-af6e-8b5d96e69479"
      },
      "execution_count": null,
      "outputs": [
        {
          "output_type": "execute_result",
          "data": {
            "text/plain": [
              "0"
            ]
          },
          "metadata": {},
          "execution_count": 7
        }
      ]
    },
    {
      "cell_type": "code",
      "source": [
        "for i in range(X_train.shape[1]):\n",
        "  \n",
        "    best_feature = None\n",
        "    best_perf = 0\n",
        "    \n",
        "    \n",
        "    for j in range(X_train.shape[1]):\n",
        "        \n",
        "        if j in selected_features:\n",
        "            continue\n",
        "            \n",
        "        count+=1\n",
        "        features = selected_features + [j]\n",
        "        model.fit(X_train[:, features], y_train)\n",
        "        \n",
        "        \n",
        "        y_pred = model.predict(X_test[:, features])\n",
        "        perf_score = accuracy_score(y_test, y_pred)\n",
        "        \n",
        "        \n",
        "        if perf_score > best_perf:\n",
        "            best_feature = j\n",
        "            best_perf = perf_score\n",
        "            \n",
        "    print(f'{best_feature} is the selected feature currently and {best_perf} is the obtained accuracy')\n",
        "    selected_features.append(best_feature)"
      ],
      "metadata": {
        "colab": {
          "base_uri": "https://localhost:8080/"
        },
        "id": "vwB4I7Mif__2",
        "outputId": "14dfee7f-00ab-45ce-df05-912e5dd40170"
      },
      "execution_count": null,
      "outputs": [
        {
          "output_type": "stream",
          "name": "stdout",
          "text": [
            "22 is the selected feature currently and 0.9649122807017544 is the obtained accuracy\n",
            "0 is the selected feature currently and 0.9736842105263158 is the obtained accuracy\n",
            "13 is the selected feature currently and 0.9912280701754386 is the obtained accuracy\n",
            "26 is the selected feature currently and 1.0 is the obtained accuracy\n",
            "2 is the selected feature currently and 1.0 is the obtained accuracy\n",
            "3 is the selected feature currently and 1.0 is the obtained accuracy\n",
            "4 is the selected feature currently and 1.0 is the obtained accuracy\n",
            "5 is the selected feature currently and 1.0 is the obtained accuracy\n",
            "6 is the selected feature currently and 1.0 is the obtained accuracy\n",
            "8 is the selected feature currently and 1.0 is the obtained accuracy\n",
            "7 is the selected feature currently and 1.0 is the obtained accuracy\n",
            "9 is the selected feature currently and 1.0 is the obtained accuracy\n",
            "10 is the selected feature currently and 1.0 is the obtained accuracy\n",
            "14 is the selected feature currently and 1.0 is the obtained accuracy\n",
            "15 is the selected feature currently and 1.0 is the obtained accuracy\n",
            "16 is the selected feature currently and 1.0 is the obtained accuracy\n",
            "17 is the selected feature currently and 1.0 is the obtained accuracy\n",
            "18 is the selected feature currently and 1.0 is the obtained accuracy\n",
            "19 is the selected feature currently and 1.0 is the obtained accuracy\n",
            "24 is the selected feature currently and 1.0 is the obtained accuracy\n",
            "27 is the selected feature currently and 1.0 is the obtained accuracy\n",
            "28 is the selected feature currently and 1.0 is the obtained accuracy\n",
            "25 is the selected feature currently and 1.0 is the obtained accuracy\n",
            "29 is the selected feature currently and 1.0 is the obtained accuracy\n",
            "11 is the selected feature currently and 0.9912280701754386 is the obtained accuracy\n",
            "12 is the selected feature currently and 1.0 is the obtained accuracy\n",
            "20 is the selected feature currently and 0.9912280701754386 is the obtained accuracy\n",
            "23 is the selected feature currently and 0.9912280701754386 is the obtained accuracy\n",
            "1 is the selected feature currently and 0.9824561403508771 is the obtained accuracy\n",
            "21 is the selected feature currently and 0.956140350877193 is the obtained accuracy\n"
          ]
        }
      ]
    },
    {
      "cell_type": "code",
      "source": [
        "perf.append(best_perf)"
      ],
      "metadata": {
        "id": "QIBZfMqPgesF"
      },
      "execution_count": null,
      "outputs": []
    },
    {
      "cell_type": "code",
      "source": [
        "print(f\"Iteration {i+1}: Selected Features = {selected_features}, Performance = {best_perf}\")\n"
      ],
      "metadata": {
        "colab": {
          "base_uri": "https://localhost:8080/"
        },
        "id": "G1KcA9kZgh1d",
        "outputId": "bfb56b4e-af21-47b7-defb-b63c55c36b1c"
      },
      "execution_count": null,
      "outputs": [
        {
          "output_type": "stream",
          "name": "stdout",
          "text": [
            "Iteration 30: Selected Features = [22, 0, 13, 26, 2, 3, 4, 5, 6, 8, 7, 9, 10, 14, 15, 16, 17, 18, 19, 24, 27, 28, 25, 29, 11, 12, 20, 23, 1, 21], Performance = 0.956140350877193\n"
          ]
        }
      ]
    },
    {
      "cell_type": "code",
      "source": [
        "import numpy as np\n",
        "\n",
        "# Reshape y_train to have shape (100, 1)\n",
        "y_train = y_train.reshape((455, 1))\n",
        "\n",
        "# Print the shapes of X_train and y_train\n",
        "print(\"X_train shape:\", X_train.shape)  # Output: (100, 10)\n",
        "print(\"y_train shape:\", y_train.shape) "
      ],
      "metadata": {
        "colab": {
          "base_uri": "https://localhost:8080/"
        },
        "id": "Ufc5hs3EjqO_",
        "outputId": "01227e58-8838-451f-d3cf-c9a766344849"
      },
      "execution_count": null,
      "outputs": [
        {
          "output_type": "stream",
          "name": "stdout",
          "text": [
            "X_train shape: (455, 30)\n",
            "y_train shape: (455, 1)\n"
          ]
        }
      ]
    },
    {
      "cell_type": "code",
      "source": [
        "import matplotlib.pyplot as plt\n",
        "import numpy as np\n",
        "import seaborn as sns\n",
        "\n",
        "# Reshape y_train to have shape (100, 1)\n",
        "y_train = y_train.reshape((455, 1))\n",
        "\n",
        "# Concatenate X_train and y_train along the second axis\n",
        "data = np.concatenate((X_train, y_train), axis=1)\n",
        "\n",
        "# Compute the correlation matrix\n",
        "corr = np.corrcoef(data, rowvar=False)\n",
        "\n",
        "# Plot the correlation matrix as a heatmap\n",
        "sns.heatmap(corr, annot=False, cmap='coolwarm', xticklabels=True, yticklabels=True)\n",
        "plt.title('Correlation Matrix')\n",
        "plt.show()\n"
      ],
      "metadata": {
        "colab": {
          "base_uri": "https://localhost:8080/",
          "height": 456
        },
        "id": "vMNHAXPGg9oW",
        "outputId": "c28df9c5-4594-467a-f1fc-c1ad9bcaa31c"
      },
      "execution_count": null,
      "outputs": [
        {
          "output_type": "display_data",
          "data": {
            "text/plain": [
              "<Figure size 640x480 with 2 Axes>"
            ],
            "image/png": "[encoded data removed]"
          },
          "metadata": {}
        }
      ]
    },
    {
      "cell_type": "code",
      "source": [],
      "metadata": {
        "id": "Fvq6rakD09yD"
      },
      "execution_count": null,
      "outputs": []
    },
    {
      "cell_type": "code",
      "source": [
        "# Lets Select top 10 features only and then test it on the result\n",
        "feat = selected_features[:10]\n",
        "\n",
        "model.fit(X_train[:, feat], y_train)"
      ],
      "metadata": {
        "colab": {
          "base_uri": "https://localhost:8080/",
          "height": 129
        },
        "id": "RoWkDW_-a1YV",
        "outputId": "df5e8d8e-4685-48de-9ff8-dd94304276ba"
      },
      "execution_count": null,
      "outputs": [
        {
          "output_type": "stream",
          "name": "stderr",
          "text": [
            "/usr/local/lib/python3.9/dist-packages/sklearn/utils/validation.py:1143: DataConversionWarning: A column-vector y was passed when a 1d array was expected. Please change the shape of y to (n_samples, ), for example using ravel().\n",
            "  y = column_or_1d(y, warn=True)\n"
          ]
        },
        {
          "output_type": "execute_result",
          "data": {
            "text/plain": [
              "LogisticRegression(max_iter=3000)"
            ],
            "text/html": [
              "<style>#sk-container-id-1 {color: black;background-color: white;}#sk-container-id-1 pre{padding: 0;}#sk-container-id-1 div.sk-toggleable {background-color: white;}#sk-container-id-1 label.sk-toggleable__label {cursor: pointer;display: block;width: 100%;margin-bottom: 0;padding: 0.3em;box-sizing: border-box;text-align: center;}#sk-container-id-1 label.sk-toggleable__label-arrow:before {content: \"▸\";float: left;margin-right: 0.25em;color: #696969;}#sk-container-id-1 label.sk-toggleable__label-arrow:hover:before {color: black;}#sk-container-id-1 div.sk-estimator:hover label.sk-toggleable__label-arrow:before {color: black;}#sk-container-id-1 div.sk-toggleable__content {max-height: 0;max-width: 0;overflow: hidden;text-align: left;background-color: #f0f8ff;}#sk-container-id-1 div.sk-toggleable__content pre {margin: 0.2em;color: black;border-radius: 0.25em;background-color: #f0f8ff;}#sk-container-id-1 input.sk-toggleable__control:checked~div.sk-toggleable__content {max-height: 200px;max-width: 100%;overflow: auto;}#sk-container-id-1 input.sk-toggleable__control:checked~label.sk-toggleable__label-arrow:before {content: \"▾\";}#sk-container-id-1 div.sk-estimator input.sk-toggleable__control:checked~label.sk-toggleable__label {background-color: #d4ebff;}#sk-container-id-1 div.sk-label input.sk-toggleable__control:checked~label.sk-toggleable__label {background-color: #d4ebff;}#sk-container-id-1 input.sk-hidden--visually {border: 0;clip: rect(1px 1px 1px 1px);clip: rect(1px, 1px, 1px, 1px);height: 1px;margin: -1px;overflow: hidden;padding: 0;position: absolute;width: 1px;}#sk-container-id-1 div.sk-estimator {font-family: monospace;background-color: #f0f8ff;border: 1px dotted black;border-radius: 0.25em;box-sizing: border-box;margin-bottom: 0.5em;}#sk-container-id-1 div.sk-estimator:hover {background-color: #d4ebff;}#sk-container-id-1 div.sk-parallel-item::after {content: \"\";width: 100%;border-bottom: 1px solid gray;flex-grow: 1;}#sk-container-id-1 div.sk-label:hover label.sk-toggleable__label {background-color: #d4ebff;}#sk-container-id-1 div.sk-serial::before {content: \"\";position: absolute;border-left: 1px solid gray;box-sizing: border-box;top: 0;bottom: 0;left: 50%;z-index: 0;}#sk-container-id-1 div.sk-serial {display: flex;flex-direction: column;align-items: center;background-color: white;padding-right: 0.2em;padding-left: 0.2em;position: relative;}#sk-container-id-1 div.sk-item {position: relative;z-index: 1;}#sk-container-id-1 div.sk-parallel {display: flex;align-items: stretch;justify-content: center;background-color: white;position: relative;}#sk-container-id-1 div.sk-item::before, #sk-container-id-1 div.sk-parallel-item::before {content: \"\";position: absolute;border-left: 1px solid gray;box-sizing: border-box;top: 0;bottom: 0;left: 50%;z-index: -1;}#sk-container-id-1 div.sk-parallel-item {display: flex;flex-direction: column;z-index: 1;position: relative;background-color: white;}#sk-container-id-1 div.sk-parallel-item:first-child::after {align-self: flex-end;width: 50%;}#sk-container-id-1 div.sk-parallel-item:last-child::after {align-self: flex-start;width: 50%;}#sk-container-id-1 div.sk-parallel-item:only-child::after {width: 0;}#sk-container-id-1 div.sk-dashed-wrapped {border: 1px dashed gray;margin: 0 0.4em 0.5em 0.4em;box-sizing: border-box;padding-bottom: 0.4em;background-color: white;}#sk-container-id-1 div.sk-label label {font-family: monospace;font-weight: bold;display: inline-block;line-height: 1.2em;}#sk-container-id-1 div.sk-label-container {text-align: center;}#sk-container-id-1 div.sk-container {/* jupyter's `normalize.less` sets `[hidden] { display: none; }` but bootstrap.min.css set `[hidden] { display: none !important; }` so we also need the `!important` here to be able to override the default hidden behavior on the sphinx rendered scikit-learn.org. See: https://github.com/scikit-learn/scikit-learn/issues/21755 */display: inline-block !important;position: relative;}#sk-container-id-1 div.sk-text-repr-fallback {display: none;}</style><div id=\"sk-container-id-1\" class=\"sk-top-container\"><div class=\"sk-text-repr-fallback\"><pre>LogisticRegression(max_iter=3000)</pre><b>In a Jupyter environment, please rerun this cell to show the HTML representation or trust the notebook. <br />On GitHub, the HTML representation is unable to render, please try loading this page with nbviewer.org.</b></div><div class=\"sk-container\" hidden><div class=\"sk-item\"><div class=\"sk-estimator sk-toggleable\"><input class=\"sk-toggleable__control sk-hidden--visually\" id=\"sk-estimator-id-1\" type=\"checkbox\" checked><label for=\"sk-estimator-id-1\" class=\"sk-toggleable__label sk-toggleable__label-arrow\">LogisticRegression</label><div class=\"sk-toggleable__content\"><pre>LogisticRegression(max_iter=3000)</pre></div></div></div></div></div>"
            ]
          },
          "metadata": {},
          "execution_count": 13
        }
      ]
    },
    {
      "cell_type": "code",
      "source": [
        "y_pred = model.predict(X_test[:, feat])\n",
        "score = accuracy_score(y_test, y_pred)"
      ],
      "metadata": {
        "id": "noGak_XMbSZh"
      },
      "execution_count": null,
      "outputs": []
    },
    {
      "cell_type": "code",
      "source": [
        "score"
      ],
      "metadata": {
        "colab": {
          "base_uri": "https://localhost:8080/"
        },
        "id": "63cH9ffebcCH",
        "outputId": "78419458-cebd-4f75-b9aa-73edcbe460fa"
      },
      "execution_count": null,
      "outputs": [
        {
          "output_type": "execute_result",
          "data": {
            "text/plain": [
              "1.0"
            ]
          },
          "metadata": {},
          "execution_count": 16
        }
      ]
    },
    {
      "cell_type": "code",
      "source": [],
      "metadata": {
        "id": "L8jYUTFhbfOx"
      },
      "execution_count": null,
      "outputs": []
    }
  ]
}