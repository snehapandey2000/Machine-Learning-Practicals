{
  "nbformat": 4,
  "nbformat_minor": 0,
  "metadata": {
    "colab": {
      "provenance": []
    },
    "kernelspec": {
      "name": "python3",
      "display_name": "Python 3"
    },
    "language_info": {
      "name": "python"
    }
  },
  "cells": [
    {
      "cell_type": "code",
      "execution_count": null,
      "metadata": {
        "id": "ONvPixaDkuoR"
      },
      "outputs": [],
      "source": [
        "from sklearn.datasets import load_iris\n",
        "from sklearn.tree import DecisionTreeClassifier\n",
        "from sklearn.model_selection import cross_val_score\n",
        "from sklearn.datasets import load_breast_cancer\n",
        "from sklearn.model_selection import KFold"
      ]
    },
    {
      "cell_type": "code",
      "source": [
        "seed = 8\n",
        "kfold = KFold(n_splits = 3)"
      ],
      "metadata": {
        "id": "4hvsh1AvwNg_"
      },
      "execution_count": null,
      "outputs": []
    },
    {
      "cell_type": "code",
      "source": [
        "# Load the Iris dataset\n",
        "iris = load_breast_cancer()"
      ],
      "metadata": {
        "id": "qMdxqyD0kxSq"
      },
      "execution_count": null,
      "outputs": []
    },
    {
      "cell_type": "code",
      "source": [
        "# Train a single decision tree classifier\n",
        "dt = DecisionTreeClassifier()\n",
        "scores = cross_val_score(dt, iris.data, iris.target, cv=kfold)"
      ],
      "metadata": {
        "id": "mX_8AIvIkzFq"
      },
      "execution_count": null,
      "outputs": []
    },
    {
      "cell_type": "code",
      "source": [
        "# Print the average accuracy score\n",
        "print(\"Single decision tree accuracy:\", scores.mean())"
      ],
      "metadata": {
        "colab": {
          "base_uri": "https://localhost:8080/"
        },
        "id": "w9aO5F4qkzCJ",
        "outputId": "261c6e99-4743-4c42-944d-b80645826d17"
      },
      "execution_count": null,
      "outputs": [
        {
          "output_type": "stream",
          "name": "stdout",
          "text": [
            "Single decision tree accuracy: 0.9032859927596769\n"
          ]
        }
      ]
    },
    {
      "cell_type": "markdown",
      "source": [
        "Bagging"
      ],
      "metadata": {
        "id": "WFAdElY-k_X4"
      }
    },
    {
      "cell_type": "code",
      "source": [
        "from sklearn.ensemble import BaggingClassifier"
      ],
      "metadata": {
        "id": "ROI7jWJ7k26a"
      },
      "execution_count": null,
      "outputs": []
    },
    {
      "cell_type": "code",
      "source": [
        "# Train a bagged decision tree classifier\n",
        "bagged_dt = BaggingClassifier(DecisionTreeClassifier(), n_estimators=1000, max_samples=0.8, max_features=0.8)\n",
        "scores = cross_val_score(bagged_dt, iris.data, iris.target, cv=kfold)"
      ],
      "metadata": {
        "id": "g6nZZC_Xk2xK"
      },
      "execution_count": null,
      "outputs": []
    },
    {
      "cell_type": "code",
      "source": [
        "# Print the average accuracy score\n",
        "print(\"Bagged decision tree accuracy:\", scores.mean())"
      ],
      "metadata": {
        "colab": {
          "base_uri": "https://localhost:8080/"
        },
        "id": "0zFPqH7Sk2tq",
        "outputId": "fe8cc9d1-6f7a-4ed8-da58-c8bb1a744da7"
      },
      "execution_count": null,
      "outputs": [
        {
          "output_type": "stream",
          "name": "stdout",
          "text": [
            "Bagged decision tree accuracy: 0.9578297595841455\n"
          ]
        }
      ]
    },
    {
      "cell_type": "markdown",
      "source": [
        "Boosting"
      ],
      "metadata": {
        "id": "onVLGgHblBVj"
      }
    },
    {
      "cell_type": "code",
      "source": [
        "from sklearn.ensemble import AdaBoostClassifier"
      ],
      "metadata": {
        "id": "IPjL8oRtk2rb"
      },
      "execution_count": null,
      "outputs": []
    },
    {
      "cell_type": "code",
      "source": [
        "# Train an AdaBoost decision tree classifier\n",
        "boosted_dt = AdaBoostClassifier(DecisionTreeClassifier(), n_estimators=100, learning_rate=1)\n",
        "scores = cross_val_score(boosted_dt, iris.data, iris.target, cv=kfold)"
      ],
      "metadata": {
        "id": "2GJkO3lIk2o9"
      },
      "execution_count": null,
      "outputs": []
    },
    {
      "cell_type": "code",
      "source": [
        "# Print the average accuracy score\n",
        "print(\"Boosted decision tree accuracy:\", scores.mean())"
      ],
      "metadata": {
        "colab": {
          "base_uri": "https://localhost:8080/"
        },
        "id": "4GqC_qW6k2mU",
        "outputId": "d5175a5b-e58b-43ff-a926-2b73bd8d2a58"
      },
      "execution_count": null,
      "outputs": [
        {
          "output_type": "stream",
          "name": "stdout",
          "text": [
            "Boosted decision tree accuracy: 0.9138308734799963\n"
          ]
        }
      ]
    },
    {
      "cell_type": "code",
      "source": [],
      "metadata": {
        "id": "U9qf27Law4Jc"
      },
      "execution_count": null,
      "outputs": []
    }
  ]
}