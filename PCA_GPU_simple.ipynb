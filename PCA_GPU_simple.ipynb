{
  "cells": [
    {
      "cell_type": "code",
      "execution_count": null,
      "id": "fe90ec9f",
      "metadata": {
        "id": "fe90ec9f"
      },
      "outputs": [],
      "source": [
        "import torch"
      ]
    },
    {
      "cell_type": "code",
      "execution_count": null,
      "id": "3733ae24",
      "metadata": {
        "id": "3733ae24",
        "outputId": "0a49abab-b479-4480-facd-a8ee0e95b2d3",
        "colab": {
          "base_uri": "https://localhost:8080/",
          "height": 35
        }
      },
      "outputs": [
        {
          "output_type": "execute_result",
          "data": {
            "text/plain": [
              "'11.6'"
            ],
            "application/vnd.google.colaboratory.intrinsic+json": {
              "type": "string"
            }
          },
          "metadata": {},
          "execution_count": 2
        }
      ],
      "source": [
        "torch.version.cuda"
      ]
    },
    {
      "cell_type": "code",
      "execution_count": null,
      "id": "b99a218f",
      "metadata": {
        "id": "b99a218f"
      },
      "outputs": [],
      "source": [
        "device = torch.device('cuda')"
      ]
    },
    {
      "cell_type": "code",
      "execution_count": null,
      "id": "14fe257d",
      "metadata": {
        "id": "14fe257d"
      },
      "outputs": [],
      "source": []
    },
    {
      "cell_type": "code",
      "execution_count": null,
      "id": "daa34508",
      "metadata": {
        "id": "daa34508"
      },
      "outputs": [],
      "source": [
        "import torch\n",
        "import tqdm as notebook_tqdm\n",
        "import pandas as pd\n",
        "from sklearn.preprocessing import StandardScaler\n",
        "from torch.linalg import eig"
      ]
    },
    {
      "cell_type": "code",
      "execution_count": null,
      "id": "d60b79d0",
      "metadata": {
        "id": "d60b79d0"
      },
      "outputs": [],
      "source": []
    },
    {
      "cell_type": "code",
      "execution_count": null,
      "id": "51257ea1",
      "metadata": {
        "id": "51257ea1"
      },
      "outputs": [],
      "source": [
        "data = pd.read_csv('banknotes.csv')"
      ]
    },
    {
      "cell_type": "code",
      "execution_count": null,
      "id": "3da01174",
      "metadata": {
        "id": "3da01174",
        "outputId": "df68c381-56f5-4444-a6d6-a304f7e1db8c",
        "colab": {
          "base_uri": "https://localhost:8080/",
          "height": 206
        }
      },
      "outputs": [
        {
          "output_type": "execute_result",
          "data": {
            "text/plain": [
              "   conterfeit  Length   Left  Right  Bottom   Top  Diagonal\n",
              "0           0   214.8  131.0  131.1     9.0   9.7     141.0\n",
              "1           0   214.6  129.7  129.7     8.1   9.5     141.7\n",
              "2           0   214.8  129.7  129.7     8.7   9.6     142.2\n",
              "3           0   214.8  129.7  129.6     7.5  10.4     142.0\n",
              "4           0   215.0  129.6  129.7    10.4   7.7     141.8"
            ],
            "text/html": [
              "\n",
              "  <div id=\"df-388ca447-2710-4aec-8f70-81c9a1594064\">\n",
              "    <div class=\"colab-df-container\">\n",
              "      <div>\n",
              "<style scoped>\n",
              "    .dataframe tbody tr th:only-of-type {\n",
              "        vertical-align: middle;\n",
              "    }\n",
              "\n",
              "    .dataframe tbody tr th {\n",
              "        vertical-align: top;\n",
              "    }\n",
              "\n",
              "    .dataframe thead th {\n",
              "        text-align: right;\n",
              "    }\n",
              "</style>\n",
              "<table border=\"1\" class=\"dataframe\">\n",
              "  <thead>\n",
              "    <tr style=\"text-align: right;\">\n",
              "      <th></th>\n",
              "      <th>conterfeit</th>\n",
              "      <th>Length</th>\n",
              "      <th>Left</th>\n",
              "      <th>Right</th>\n",
              "      <th>Bottom</th>\n",
              "      <th>Top</th>\n",
              "      <th>Diagonal</th>\n",
              "    </tr>\n",
              "  </thead>\n",
              "  <tbody>\n",
              "    <tr>\n",
              "      <th>0</th>\n",
              "      <td>0</td>\n",
              "      <td>214.8</td>\n",
              "      <td>131.0</td>\n",
              "      <td>131.1</td>\n",
              "      <td>9.0</td>\n",
              "      <td>9.7</td>\n",
              "      <td>141.0</td>\n",
              "    </tr>\n",
              "    <tr>\n",
              "      <th>1</th>\n",
              "      <td>0</td>\n",
              "      <td>214.6</td>\n",
              "      <td>129.7</td>\n",
              "      <td>129.7</td>\n",
              "      <td>8.1</td>\n",
              "      <td>9.5</td>\n",
              "      <td>141.7</td>\n",
              "    </tr>\n",
              "    <tr>\n",
              "      <th>2</th>\n",
              "      <td>0</td>\n",
              "      <td>214.8</td>\n",
              "      <td>129.7</td>\n",
              "      <td>129.7</td>\n",
              "      <td>8.7</td>\n",
              "      <td>9.6</td>\n",
              "      <td>142.2</td>\n",
              "    </tr>\n",
              "    <tr>\n",
              "      <th>3</th>\n",
              "      <td>0</td>\n",
              "      <td>214.8</td>\n",
              "      <td>129.7</td>\n",
              "      <td>129.6</td>\n",
              "      <td>7.5</td>\n",
              "      <td>10.4</td>\n",
              "      <td>142.0</td>\n",
              "    </tr>\n",
              "    <tr>\n",
              "      <th>4</th>\n",
              "      <td>0</td>\n",
              "      <td>215.0</td>\n",
              "      <td>129.6</td>\n",
              "      <td>129.7</td>\n",
              "      <td>10.4</td>\n",
              "      <td>7.7</td>\n",
              "      <td>141.8</td>\n",
              "    </tr>\n",
              "  </tbody>\n",
              "</table>\n",
              "</div>\n",
              "      <button class=\"colab-df-convert\" onclick=\"convertToInteractive('df-388ca447-2710-4aec-8f70-81c9a1594064')\"\n",
              "              title=\"Convert this dataframe to an interactive table.\"\n",
              "              style=\"display:none;\">\n",
              "        \n",
              "  <svg xmlns=\"http://www.w3.org/2000/svg\" height=\"24px\"viewBox=\"0 0 24 24\"\n",
              "       width=\"24px\">\n",
              "    <path d=\"M0 0h24v24H0V0z\" fill=\"none\"/>\n",
              "    <path d=\"M18.56 5.44l.94 2.06.94-2.06 2.06-.94-2.06-.94-.94-2.06-.94 2.06-2.06.94zm-11 1L8.5 8.5l.94-2.06 2.06-.94-2.06-.94L8.5 2.5l-.94 2.06-2.06.94zm10 10l.94 2.06.94-2.06 2.06-.94-2.06-.94-.94-2.06-.94 2.06-2.06.94z\"/><path d=\"M17.41 7.96l-1.37-1.37c-.4-.4-.92-.59-1.43-.59-.52 0-1.04.2-1.43.59L10.3 9.45l-7.72 7.72c-.78.78-.78 2.05 0 2.83L4 21.41c.39.39.9.59 1.41.59.51 0 1.02-.2 1.41-.59l7.78-7.78 2.81-2.81c.8-.78.8-2.07 0-2.86zM5.41 20L4 18.59l7.72-7.72 1.47 1.35L5.41 20z\"/>\n",
              "  </svg>\n",
              "      </button>\n",
              "      \n",
              "  <style>\n",
              "    .colab-df-container {\n",
              "      display:flex;\n",
              "      flex-wrap:wrap;\n",
              "      gap: 12px;\n",
              "    }\n",
              "\n",
              "    .colab-df-convert {\n",
              "      background-color: #E8F0FE;\n",
              "      border: none;\n",
              "      border-radius: 50%;\n",
              "      cursor: pointer;\n",
              "      display: none;\n",
              "      fill: #1967D2;\n",
              "      height: 32px;\n",
              "      padding: 0 0 0 0;\n",
              "      width: 32px;\n",
              "    }\n",
              "\n",
              "    .colab-df-convert:hover {\n",
              "      background-color: #E2EBFA;\n",
              "      box-shadow: 0px 1px 2px rgba(60, 64, 67, 0.3), 0px 1px 3px 1px rgba(60, 64, 67, 0.15);\n",
              "      fill: #174EA6;\n",
              "    }\n",
              "\n",
              "    [theme=dark] .colab-df-convert {\n",
              "      background-color: #3B4455;\n",
              "      fill: #D2E3FC;\n",
              "    }\n",
              "\n",
              "    [theme=dark] .colab-df-convert:hover {\n",
              "      background-color: #434B5C;\n",
              "      box-shadow: 0px 1px 3px 1px rgba(0, 0, 0, 0.15);\n",
              "      filter: drop-shadow(0px 1px 2px rgba(0, 0, 0, 0.3));\n",
              "      fill: #FFFFFF;\n",
              "    }\n",
              "  </style>\n",
              "\n",
              "      <script>\n",
              "        const buttonEl =\n",
              "          document.querySelector('#df-388ca447-2710-4aec-8f70-81c9a1594064 button.colab-df-convert');\n",
              "        buttonEl.style.display =\n",
              "          google.colab.kernel.accessAllowed ? 'block' : 'none';\n",
              "\n",
              "        async function convertToInteractive(key) {\n",
              "          const element = document.querySelector('#df-388ca447-2710-4aec-8f70-81c9a1594064');\n",
              "          const dataTable =\n",
              "            await google.colab.kernel.invokeFunction('convertToInteractive',\n",
              "                                                     [key], {});\n",
              "          if (!dataTable) return;\n",
              "\n",
              "          const docLinkHtml = 'Like what you see? Visit the ' +\n",
              "            '<a target=\"_blank\" href=https://colab.research.google.com/notebooks/data_table.ipynb>data table notebook</a>'\n",
              "            + ' to learn more about interactive tables.';\n",
              "          element.innerHTML = '';\n",
              "          dataTable['output_type'] = 'display_data';\n",
              "          await google.colab.output.renderOutput(dataTable, element);\n",
              "          const docLink = document.createElement('div');\n",
              "          docLink.innerHTML = docLinkHtml;\n",
              "          element.appendChild(docLink);\n",
              "        }\n",
              "      </script>\n",
              "    </div>\n",
              "  </div>\n",
              "  "
            ]
          },
          "metadata": {},
          "execution_count": 6
        }
      ],
      "source": [
        "data.head()"
      ]
    },
    {
      "cell_type": "code",
      "source": [
        "data = data.sample(frac=1).reset_index(drop=True)"
      ],
      "metadata": {
        "id": "CO4JXXwMceHX"
      },
      "id": "CO4JXXwMceHX",
      "execution_count": null,
      "outputs": []
    },
    {
      "cell_type": "code",
      "execution_count": null,
      "id": "c74a88f4",
      "metadata": {
        "id": "c74a88f4",
        "outputId": "ea0f08c0-30b8-4aa9-a8f9-d183183903ef",
        "colab": {
          "base_uri": "https://localhost:8080/"
        }
      },
      "outputs": [
        {
          "output_type": "stream",
          "name": "stdout",
          "text": [
            "<class 'pandas.core.frame.DataFrame'>\n",
            "RangeIndex: 200 entries, 0 to 199\n",
            "Data columns (total 7 columns):\n",
            " #   Column      Non-Null Count  Dtype  \n",
            "---  ------      --------------  -----  \n",
            " 0   conterfeit  200 non-null    int64  \n",
            " 1   Length      200 non-null    float64\n",
            " 2   Left        200 non-null    float64\n",
            " 3   Right       200 non-null    float64\n",
            " 4   Bottom      200 non-null    float64\n",
            " 5   Top         200 non-null    float64\n",
            " 6   Diagonal    200 non-null    float64\n",
            "dtypes: float64(6), int64(1)\n",
            "memory usage: 11.1 KB\n"
          ]
        }
      ],
      "source": [
        "data.info()"
      ]
    },
    {
      "cell_type": "code",
      "execution_count": null,
      "id": "fd27714e",
      "metadata": {
        "id": "fd27714e",
        "outputId": "cecea057-353a-4f19-c16c-73a41eeb33f3",
        "colab": {
          "base_uri": "https://localhost:8080/"
        }
      },
      "outputs": [
        {
          "output_type": "execute_result",
          "data": {
            "text/plain": [
              "0    0\n",
              "1    1\n",
              "2    1\n",
              "3    0\n",
              "4    0\n",
              "Name: conterfeit, dtype: int64"
            ]
          },
          "metadata": {},
          "execution_count": 9
        }
      ],
      "source": [
        "y = data['conterfeit']\n",
        "y.head()"
      ]
    },
    {
      "cell_type": "code",
      "execution_count": null,
      "id": "4753da73",
      "metadata": {
        "id": "4753da73"
      },
      "outputs": [],
      "source": [
        "X = data.drop('conterfeit',axis=1)\n",
        "sc = StandardScaler()\n",
        "x = sc.fit_transform(X)"
      ]
    },
    {
      "cell_type": "code",
      "execution_count": null,
      "id": "a192b0d1",
      "metadata": {
        "id": "a192b0d1",
        "outputId": "dd224d74-7a47-405a-fa88-03bec59c8f4c",
        "colab": {
          "base_uri": "https://localhost:8080/",
          "height": 206
        }
      },
      "outputs": [
        {
          "output_type": "execute_result",
          "data": {
            "text/plain": [
              "   Length   Left  Right  Bottom   Top  Diagonal\n",
              "0   214.5  129.5  129.3     7.4  10.7     141.5\n",
              "1   215.0  130.2  130.2    10.6  10.7     139.9\n",
              "2   216.3  130.7  130.4    10.0  10.1     138.8\n",
              "3   214.8  129.9  129.7     8.3  10.2     141.5\n",
              "4   215.2  130.6  130.0     8.8  10.6     140.8"
            ],
            "text/html": [
              "\n",
              "  <div id=\"df-9a16605b-eac0-46ed-a323-37e2d91b46d7\">\n",
              "    <div class=\"colab-df-container\">\n",
              "      <div>\n",
              "<style scoped>\n",
              "    .dataframe tbody tr th:only-of-type {\n",
              "        vertical-align: middle;\n",
              "    }\n",
              "\n",
              "    .dataframe tbody tr th {\n",
              "        vertical-align: top;\n",
              "    }\n",
              "\n",
              "    .dataframe thead th {\n",
              "        text-align: right;\n",
              "    }\n",
              "</style>\n",
              "<table border=\"1\" class=\"dataframe\">\n",
              "  <thead>\n",
              "    <tr style=\"text-align: right;\">\n",
              "      <th></th>\n",
              "      <th>Length</th>\n",
              "      <th>Left</th>\n",
              "      <th>Right</th>\n",
              "      <th>Bottom</th>\n",
              "      <th>Top</th>\n",
              "      <th>Diagonal</th>\n",
              "    </tr>\n",
              "  </thead>\n",
              "  <tbody>\n",
              "    <tr>\n",
              "      <th>0</th>\n",
              "      <td>214.5</td>\n",
              "      <td>129.5</td>\n",
              "      <td>129.3</td>\n",
              "      <td>7.4</td>\n",
              "      <td>10.7</td>\n",
              "      <td>141.5</td>\n",
              "    </tr>\n",
              "    <tr>\n",
              "      <th>1</th>\n",
              "      <td>215.0</td>\n",
              "      <td>130.2</td>\n",
              "      <td>130.2</td>\n",
              "      <td>10.6</td>\n",
              "      <td>10.7</td>\n",
              "      <td>139.9</td>\n",
              "    </tr>\n",
              "    <tr>\n",
              "      <th>2</th>\n",
              "      <td>216.3</td>\n",
              "      <td>130.7</td>\n",
              "      <td>130.4</td>\n",
              "      <td>10.0</td>\n",
              "      <td>10.1</td>\n",
              "      <td>138.8</td>\n",
              "    </tr>\n",
              "    <tr>\n",
              "      <th>3</th>\n",
              "      <td>214.8</td>\n",
              "      <td>129.9</td>\n",
              "      <td>129.7</td>\n",
              "      <td>8.3</td>\n",
              "      <td>10.2</td>\n",
              "      <td>141.5</td>\n",
              "    </tr>\n",
              "    <tr>\n",
              "      <th>4</th>\n",
              "      <td>215.2</td>\n",
              "      <td>130.6</td>\n",
              "      <td>130.0</td>\n",
              "      <td>8.8</td>\n",
              "      <td>10.6</td>\n",
              "      <td>140.8</td>\n",
              "    </tr>\n",
              "  </tbody>\n",
              "</table>\n",
              "</div>\n",
              "      <button class=\"colab-df-convert\" onclick=\"convertToInteractive('df-9a16605b-eac0-46ed-a323-37e2d91b46d7')\"\n",
              "              title=\"Convert this dataframe to an interactive table.\"\n",
              "              style=\"display:none;\">\n",
              "        \n",
              "  <svg xmlns=\"http://www.w3.org/2000/svg\" height=\"24px\"viewBox=\"0 0 24 24\"\n",
              "       width=\"24px\">\n",
              "    <path d=\"M0 0h24v24H0V0z\" fill=\"none\"/>\n",
              "    <path d=\"M18.56 5.44l.94 2.06.94-2.06 2.06-.94-2.06-.94-.94-2.06-.94 2.06-2.06.94zm-11 1L8.5 8.5l.94-2.06 2.06-.94-2.06-.94L8.5 2.5l-.94 2.06-2.06.94zm10 10l.94 2.06.94-2.06 2.06-.94-2.06-.94-.94-2.06-.94 2.06-2.06.94z\"/><path d=\"M17.41 7.96l-1.37-1.37c-.4-.4-.92-.59-1.43-.59-.52 0-1.04.2-1.43.59L10.3 9.45l-7.72 7.72c-.78.78-.78 2.05 0 2.83L4 21.41c.39.39.9.59 1.41.59.51 0 1.02-.2 1.41-.59l7.78-7.78 2.81-2.81c.8-.78.8-2.07 0-2.86zM5.41 20L4 18.59l7.72-7.72 1.47 1.35L5.41 20z\"/>\n",
              "  </svg>\n",
              "      </button>\n",
              "      \n",
              "  <style>\n",
              "    .colab-df-container {\n",
              "      display:flex;\n",
              "      flex-wrap:wrap;\n",
              "      gap: 12px;\n",
              "    }\n",
              "\n",
              "    .colab-df-convert {\n",
              "      background-color: #E8F0FE;\n",
              "      border: none;\n",
              "      border-radius: 50%;\n",
              "      cursor: pointer;\n",
              "      display: none;\n",
              "      fill: #1967D2;\n",
              "      height: 32px;\n",
              "      padding: 0 0 0 0;\n",
              "      width: 32px;\n",
              "    }\n",
              "\n",
              "    .colab-df-convert:hover {\n",
              "      background-color: #E2EBFA;\n",
              "      box-shadow: 0px 1px 2px rgba(60, 64, 67, 0.3), 0px 1px 3px 1px rgba(60, 64, 67, 0.15);\n",
              "      fill: #174EA6;\n",
              "    }\n",
              "\n",
              "    [theme=dark] .colab-df-convert {\n",
              "      background-color: #3B4455;\n",
              "      fill: #D2E3FC;\n",
              "    }\n",
              "\n",
              "    [theme=dark] .colab-df-convert:hover {\n",
              "      background-color: #434B5C;\n",
              "      box-shadow: 0px 1px 3px 1px rgba(0, 0, 0, 0.15);\n",
              "      filter: drop-shadow(0px 1px 2px rgba(0, 0, 0, 0.3));\n",
              "      fill: #FFFFFF;\n",
              "    }\n",
              "  </style>\n",
              "\n",
              "      <script>\n",
              "        const buttonEl =\n",
              "          document.querySelector('#df-9a16605b-eac0-46ed-a323-37e2d91b46d7 button.colab-df-convert');\n",
              "        buttonEl.style.display =\n",
              "          google.colab.kernel.accessAllowed ? 'block' : 'none';\n",
              "\n",
              "        async function convertToInteractive(key) {\n",
              "          const element = document.querySelector('#df-9a16605b-eac0-46ed-a323-37e2d91b46d7');\n",
              "          const dataTable =\n",
              "            await google.colab.kernel.invokeFunction('convertToInteractive',\n",
              "                                                     [key], {});\n",
              "          if (!dataTable) return;\n",
              "\n",
              "          const docLinkHtml = 'Like what you see? Visit the ' +\n",
              "            '<a target=\"_blank\" href=https://colab.research.google.com/notebooks/data_table.ipynb>data table notebook</a>'\n",
              "            + ' to learn more about interactive tables.';\n",
              "          element.innerHTML = '';\n",
              "          dataTable['output_type'] = 'display_data';\n",
              "          await google.colab.output.renderOutput(dataTable, element);\n",
              "          const docLink = document.createElement('div');\n",
              "          docLink.innerHTML = docLinkHtml;\n",
              "          element.appendChild(docLink);\n",
              "        }\n",
              "      </script>\n",
              "    </div>\n",
              "  </div>\n",
              "  "
            ]
          },
          "metadata": {},
          "execution_count": 11
        }
      ],
      "source": [
        "X.head()"
      ]
    },
    {
      "cell_type": "code",
      "execution_count": null,
      "id": "3d449255",
      "metadata": {
        "id": "3d449255",
        "outputId": "ab6f8317-4b81-4b3e-8cd9-4e4be1e154d0",
        "colab": {
          "base_uri": "https://localhost:8080/"
        }
      },
      "outputs": [
        {
          "output_type": "execute_result",
          "data": {
            "text/plain": [
              "array([[-1.05428082, -1.72580473, -1.62878782, -1.40008195,  0.06180263,\n",
              "         0.88438872],\n",
              "       [ 0.27688183,  0.21798177,  0.6041277 ,  0.82061805,  0.06180263,\n",
              "        -0.50766436],\n",
              "       [ 3.73790471,  1.6064007 ,  1.10033115,  0.4042368 , -0.68732015,\n",
              "        -1.46470084],\n",
              "       ...,\n",
              "       [ 0.27688183,  0.77334934,  0.35602597,  1.37579305,  0.06180263,\n",
              "        -1.20369089],\n",
              "       [-0.52181576, -1.17043716, -1.62878782, -0.56731945, -1.31158914,\n",
              "         0.97139204],\n",
              "       [-0.52181576,  0.77334934,  0.35602597,  1.86157117, -0.31275876,\n",
              "        -0.50766436]])"
            ]
          },
          "metadata": {},
          "execution_count": 12
        }
      ],
      "source": [
        "x"
      ]
    },
    {
      "cell_type": "code",
      "execution_count": null,
      "id": "72c80042",
      "metadata": {
        "id": "72c80042"
      },
      "outputs": [],
      "source": [
        "PyData = torch.tensor(x,dtype = torch.float32)\n",
        "PyY = torch.tensor(y)"
      ]
    },
    {
      "cell_type": "code",
      "execution_count": null,
      "id": "251ba571",
      "metadata": {
        "id": "251ba571",
        "outputId": "4e39e06e-caa8-437e-808e-68ecefb1eeca",
        "colab": {
          "base_uri": "https://localhost:8080/"
        }
      },
      "outputs": [
        {
          "output_type": "execute_result",
          "data": {
            "text/plain": [
              "(device(type='cpu'), device(type='cpu'))"
            ]
          },
          "metadata": {},
          "execution_count": 14
        }
      ],
      "source": [
        "PyData.device, PyY.device"
      ]
    },
    {
      "cell_type": "code",
      "execution_count": null,
      "id": "e081b20a",
      "metadata": {
        "id": "e081b20a"
      },
      "outputs": [],
      "source": [
        "PyData = PyData.to(device)\n",
        "PyY = PyY.to(device)"
      ]
    },
    {
      "cell_type": "code",
      "execution_count": null,
      "id": "f35acd1a",
      "metadata": {
        "id": "f35acd1a",
        "outputId": "e9462739-16c5-4fc9-9e6f-3d2250b11918",
        "colab": {
          "base_uri": "https://localhost:8080/"
        }
      },
      "outputs": [
        {
          "output_type": "execute_result",
          "data": {
            "text/plain": [
              "(device(type='cuda', index=0), device(type='cuda', index=0))"
            ]
          },
          "metadata": {},
          "execution_count": 16
        }
      ],
      "source": [
        "PyData.device, PyY.device"
      ]
    },
    {
      "cell_type": "code",
      "execution_count": null,
      "id": "b251e85b",
      "metadata": {
        "id": "b251e85b"
      },
      "outputs": [],
      "source": [
        "# PyData_mean = torch.mean(PyData, dim=0)\n",
        "# PyData_centered = PyData - PyData_mean"
      ]
    },
    {
      "cell_type": "code",
      "execution_count": null,
      "id": "3e7baccd",
      "metadata": {
        "id": "3e7baccd"
      },
      "outputs": [],
      "source": [
        "pca = torch.pca_lowrank(PyData)"
      ]
    },
    {
      "cell_type": "code",
      "execution_count": null,
      "id": "6c9b0b41",
      "metadata": {
        "id": "6c9b0b41",
        "outputId": "d21c36de-66c4-4aaf-8d42-36236dc5238d",
        "colab": {
          "base_uri": "https://localhost:8080/"
        }
      },
      "outputs": [
        {
          "output_type": "execute_result",
          "data": {
            "text/plain": [
              "(tensor([[-1.0612e-01, -7.8295e-02,  8.5398e-02, -1.3538e-02, -7.3885e-03,\n",
              "           4.0513e-03],\n",
              "         [ 4.1245e-02,  5.6079e-03, -3.5242e-02,  3.6915e-02, -3.6232e-02,\n",
              "          -1.1399e-02],\n",
              "         [ 7.8080e-02,  2.1450e-01, -6.4190e-02,  1.7940e-01,  9.4679e-02,\n",
              "          -1.7058e-01],\n",
              "         ...,\n",
              "         [ 7.0428e-02, -7.6014e-03, -5.5834e-02,  7.7437e-02,  4.8981e-02,\n",
              "          -1.8510e-04],\n",
              "         [-1.0420e-01, -4.3774e-02, -3.7899e-02,  1.1484e-02,  4.9464e-02,\n",
              "           6.2340e-03],\n",
              "         [ 5.8971e-02, -4.2360e-02, -1.0680e-01,  1.6608e-02,  2.0043e-02,\n",
              "           8.6409e-02]], device='cuda:0'),\n",
              " tensor([24.2716, 15.9880, 13.1836,  9.4844,  7.3304,  6.1462], device='cuda:0'),\n",
              " tensor([[-0.0070,  0.8155,  0.0177,  0.5746, -0.0588, -0.0311],\n",
              "         [ 0.4678,  0.3420, -0.1034, -0.3949,  0.6395,  0.2977],\n",
              "         [ 0.4867,  0.2525, -0.1235, -0.4303, -0.6141, -0.3492],\n",
              "         [ 0.4068, -0.2662, -0.5835,  0.4037, -0.2155,  0.4624],\n",
              "         [ 0.3679, -0.0915,  0.7876,  0.1102, -0.2198,  0.4190],\n",
              "         [-0.4935,  0.2739, -0.1139, -0.3919, -0.3402,  0.6318]],\n",
              "        device='cuda:0'))"
            ]
          },
          "metadata": {},
          "execution_count": 19
        }
      ],
      "source": [
        "pca"
      ]
    },
    {
      "cell_type": "code",
      "execution_count": null,
      "id": "b0c15bb5",
      "metadata": {
        "id": "b0c15bb5"
      },
      "outputs": [],
      "source": [
        "pca_x = pca[0][:,:5]"
      ]
    },
    {
      "cell_type": "markdown",
      "source": [
        "# MLP MODEL"
      ],
      "metadata": {
        "id": "5bNgGS17p8AJ"
      },
      "id": "5bNgGS17p8AJ"
    },
    {
      "cell_type": "code",
      "execution_count": null,
      "id": "30b5e787",
      "metadata": {
        "id": "30b5e787"
      },
      "outputs": [],
      "source": [
        "X_train = pca_x[:160]\n",
        "X_test = pca_x[-40:]"
      ]
    },
    {
      "cell_type": "code",
      "execution_count": null,
      "id": "f696b3e1",
      "metadata": {
        "id": "f696b3e1",
        "outputId": "454a1809-398c-495b-a1d9-69337e6d908b",
        "colab": {
          "base_uri": "https://localhost:8080/"
        }
      },
      "outputs": [
        {
          "output_type": "execute_result",
          "data": {
            "text/plain": [
              "torch.Size([40, 5])"
            ]
          },
          "metadata": {},
          "execution_count": 117
        }
      ],
      "source": [
        "X_test.shape"
      ]
    },
    {
      "cell_type": "code",
      "execution_count": null,
      "id": "28ea61a1",
      "metadata": {
        "id": "28ea61a1"
      },
      "outputs": [],
      "source": [
        "y_train = PyY[:160]\n",
        "y_test = PyY[-40:]"
      ]
    },
    {
      "cell_type": "code",
      "execution_count": null,
      "id": "ffa191da",
      "metadata": {
        "id": "ffa191da",
        "outputId": "775c54dd-4586-4ec7-f464-ed53bf39f5e0",
        "colab": {
          "base_uri": "https://localhost:8080/"
        }
      },
      "outputs": [
        {
          "output_type": "execute_result",
          "data": {
            "text/plain": [
              "tensor([1, 1, 0, 1, 1, 1, 0, 0, 1, 0, 0, 0, 0, 0, 0, 1, 0, 1, 0, 1, 1, 0, 0, 0,\n",
              "        1, 0, 0, 0, 0, 1, 0, 1, 1, 0, 1, 0, 1, 1, 1, 0], device='cuda:0')"
            ]
          },
          "metadata": {},
          "execution_count": 119
        }
      ],
      "source": [
        "y_test"
      ]
    },
    {
      "cell_type": "code",
      "execution_count": null,
      "id": "b51e0497",
      "metadata": {
        "id": "b51e0497"
      },
      "outputs": [],
      "source": []
    },
    {
      "cell_type": "code",
      "execution_count": null,
      "id": "c2dc085d",
      "metadata": {
        "id": "c2dc085d"
      },
      "outputs": [],
      "source": []
    },
    {
      "cell_type": "code",
      "source": [
        "from collections import OrderedDict\n",
        "import torch.nn as nn"
      ],
      "metadata": {
        "id": "iRV8TibSTl0W"
      },
      "id": "iRV8TibSTl0W",
      "execution_count": null,
      "outputs": []
    },
    {
      "cell_type": "code",
      "source": [
        "def model(infet=5,hiddDim=8,nbClass=2):\n",
        "  model = nn.Sequential(\n",
        "      OrderedDict([\n",
        "          ('hiddenLayer1', nn.Linear(infet,hiddDim)),\n",
        "          ('activation1',nn.ReLU()),\n",
        "          (\"output_layer\", nn.Linear(hiddDim, nbClass))\n",
        "      ])\n",
        "  )\n",
        "\n",
        "  return model"
      ],
      "metadata": {
        "id": "zWES6-UwTw79"
      },
      "id": "zWES6-UwTw79",
      "execution_count": null,
      "outputs": []
    },
    {
      "cell_type": "code",
      "source": [
        "model1 = model()\n",
        "mlp = model1.to(device)\n",
        "mlp"
      ],
      "metadata": {
        "colab": {
          "base_uri": "https://localhost:8080/"
        },
        "id": "2Yw6teX0VI2k",
        "outputId": "133d44a7-b4e1-4924-8a1c-2140155aa73d"
      },
      "id": "2Yw6teX0VI2k",
      "execution_count": null,
      "outputs": [
        {
          "output_type": "execute_result",
          "data": {
            "text/plain": [
              "Sequential(\n",
              "  (hiddenLayer1): Linear(in_features=5, out_features=8, bias=True)\n",
              "  (activation1): ReLU()\n",
              "  (output_layer): Linear(in_features=8, out_features=2, bias=True)\n",
              ")"
            ]
          },
          "metadata": {},
          "execution_count": 122
        }
      ]
    },
    {
      "cell_type": "code",
      "source": [
        "# from pyimagesearch import mlp\n",
        "from torch.optim import SGD\n",
        "from sklearn.model_selection import train_test_split\n",
        "# from sklearn.datasets import make_blobs"
      ],
      "metadata": {
        "id": "_d9gNc70V3SM"
      },
      "id": "_d9gNc70V3SM",
      "execution_count": null,
      "outputs": []
    },
    {
      "cell_type": "code",
      "source": [
        "opt = SGD(mlp.parameters(),lr=1e-2)\n",
        "lossFunc = nn.CrossEntropyLoss()"
      ],
      "metadata": {
        "id": "ozeGv59eVSIu"
      },
      "id": "ozeGv59eVSIu",
      "execution_count": null,
      "outputs": []
    },
    {
      "cell_type": "code",
      "source": [
        "EPOCHS = 300\n",
        "BATCH_SIZE = 10"
      ],
      "metadata": {
        "id": "q6tHT6Yses9v"
      },
      "id": "q6tHT6Yses9v",
      "execution_count": null,
      "outputs": []
    },
    {
      "cell_type": "code",
      "source": [
        "def next_batch(inputs, targets, batchSize):\n",
        "\t# loop over the dataset\n",
        "\tfor i in range(0, inputs.shape[0], batchSize):\n",
        "\t\t# yield a tuple of the current batched data and labels\n",
        "\t\tyield (inputs[i:i + batchSize], targets[i:i + batchSize])"
      ],
      "metadata": {
        "id": "kGYfK8jme_3z"
      },
      "id": "kGYfK8jme_3z",
      "execution_count": null,
      "outputs": []
    },
    {
      "cell_type": "code",
      "source": [
        "for epoch in range(0, EPOCHS):\n",
        "\t# initialize tracker variables and set our model to trainable\n",
        "\tprint(\"[INFO] epoch: {}...\".format(epoch + 1))\n",
        "\ttrainLoss = 0\n",
        "\ttrainAcc = 0\n",
        "\tsamples = 0\n",
        "\tmlp.train()\n",
        "\t# loop over the current batch of data\n",
        "\tfor (batchX, batchY) in next_batch(X_train, y_train, BATCH_SIZE):\n",
        "\t\t# flash data to the current device, run it through our\n",
        "\t\t# model, and calculate loss\n",
        "\t\t(batchX, batchY) = (batchX.to(device), batchY.to(device))\n",
        "\t\tpredictions = mlp(batchX)\n",
        "\t\tloss = lossFunc(predictions, batchY.long())\n",
        "\t\t# zero the gradients accumulated from the previous steps,\n",
        "\t\t# perform backpropagation, and update model parameters\n",
        "\t\topt.zero_grad()\n",
        "\t\tloss.backward()\n",
        "\t\topt.step()\n",
        "\t\t# update training loss, accuracy, and the number of samples\n",
        "\t\t# visited\n",
        "\t\ttrainLoss += loss.item() * batchY.size(0)\n",
        "\t\ttrainAcc += (predictions.max(1)[1] == batchY).sum().item()\n",
        "\t\tsamples += batchY.size(0)\n",
        "\t# display model progress on the current training batch\n",
        "\ttrainTemplate = \"epoch: {} train loss: {:.3f} train accuracy: {:.3f}\"\n",
        "\tprint(trainTemplate.format(epoch + 1, (trainLoss / samples),\n",
        "\t\t(trainAcc / samples)))"
      ],
      "metadata": {
        "colab": {
          "base_uri": "https://localhost:8080/"
        },
        "id": "JBD5zqxlV1vc",
        "outputId": "68119878-a0d5-43a6-eb9b-d0c989e50d69"
      },
      "id": "JBD5zqxlV1vc",
      "execution_count": null,
      "outputs": [
        {
          "output_type": "stream",
          "name": "stdout",
          "text": [
            "[INFO] epoch: 1...\n",
            "epoch: 1 train loss: 0.696 train accuracy: 0.512\n",
            "[INFO] epoch: 2...\n",
            "epoch: 2 train loss: 0.696 train accuracy: 0.512\n",
            "[INFO] epoch: 3...\n",
            "epoch: 3 train loss: 0.696 train accuracy: 0.512\n",
            "[INFO] epoch: 4...\n",
            "epoch: 4 train loss: 0.696 train accuracy: 0.512\n",
            "[INFO] epoch: 5...\n",
            "epoch: 5 train loss: 0.696 train accuracy: 0.512\n",
            "[INFO] epoch: 6...\n",
            "epoch: 6 train loss: 0.696 train accuracy: 0.512\n",
            "[INFO] epoch: 7...\n",
            "epoch: 7 train loss: 0.696 train accuracy: 0.512\n",
            "[INFO] epoch: 8...\n",
            "epoch: 8 train loss: 0.696 train accuracy: 0.512\n",
            "[INFO] epoch: 9...\n",
            "epoch: 9 train loss: 0.696 train accuracy: 0.512\n",
            "[INFO] epoch: 10...\n",
            "epoch: 10 train loss: 0.695 train accuracy: 0.512\n",
            "[INFO] epoch: 11...\n",
            "epoch: 11 train loss: 0.695 train accuracy: 0.512\n",
            "[INFO] epoch: 12...\n",
            "epoch: 12 train loss: 0.695 train accuracy: 0.512\n",
            "[INFO] epoch: 13...\n",
            "epoch: 13 train loss: 0.695 train accuracy: 0.512\n",
            "[INFO] epoch: 14...\n",
            "epoch: 14 train loss: 0.695 train accuracy: 0.512\n",
            "[INFO] epoch: 15...\n",
            "epoch: 15 train loss: 0.695 train accuracy: 0.512\n",
            "[INFO] epoch: 16...\n",
            "epoch: 16 train loss: 0.695 train accuracy: 0.512\n",
            "[INFO] epoch: 17...\n",
            "epoch: 17 train loss: 0.695 train accuracy: 0.512\n",
            "[INFO] epoch: 18...\n",
            "epoch: 18 train loss: 0.695 train accuracy: 0.512\n",
            "[INFO] epoch: 19...\n",
            "epoch: 19 train loss: 0.695 train accuracy: 0.512\n",
            "[INFO] epoch: 20...\n",
            "epoch: 20 train loss: 0.695 train accuracy: 0.512\n",
            "[INFO] epoch: 21...\n",
            "epoch: 21 train loss: 0.694 train accuracy: 0.512\n",
            "[INFO] epoch: 22...\n",
            "epoch: 22 train loss: 0.694 train accuracy: 0.512\n",
            "[INFO] epoch: 23...\n",
            "epoch: 23 train loss: 0.694 train accuracy: 0.512\n",
            "[INFO] epoch: 24...\n",
            "epoch: 24 train loss: 0.694 train accuracy: 0.512\n",
            "[INFO] epoch: 25...\n",
            "epoch: 25 train loss: 0.694 train accuracy: 0.512\n",
            "[INFO] epoch: 26...\n",
            "epoch: 26 train loss: 0.694 train accuracy: 0.512\n",
            "[INFO] epoch: 27...\n",
            "epoch: 27 train loss: 0.694 train accuracy: 0.512\n",
            "[INFO] epoch: 28...\n",
            "epoch: 28 train loss: 0.694 train accuracy: 0.512\n",
            "[INFO] epoch: 29...\n",
            "epoch: 29 train loss: 0.694 train accuracy: 0.512\n",
            "[INFO] epoch: 30...\n",
            "epoch: 30 train loss: 0.694 train accuracy: 0.512\n",
            "[INFO] epoch: 31...\n",
            "epoch: 31 train loss: 0.693 train accuracy: 0.512\n",
            "[INFO] epoch: 32...\n",
            "epoch: 32 train loss: 0.693 train accuracy: 0.512\n",
            "[INFO] epoch: 33...\n",
            "epoch: 33 train loss: 0.693 train accuracy: 0.512\n",
            "[INFO] epoch: 34...\n",
            "epoch: 34 train loss: 0.693 train accuracy: 0.512\n",
            "[INFO] epoch: 35...\n",
            "epoch: 35 train loss: 0.693 train accuracy: 0.512\n",
            "[INFO] epoch: 36...\n",
            "epoch: 36 train loss: 0.693 train accuracy: 0.512\n",
            "[INFO] epoch: 37...\n",
            "epoch: 37 train loss: 0.693 train accuracy: 0.512\n",
            "[INFO] epoch: 38...\n",
            "epoch: 38 train loss: 0.692 train accuracy: 0.512\n",
            "[INFO] epoch: 39...\n",
            "epoch: 39 train loss: 0.692 train accuracy: 0.512\n",
            "[INFO] epoch: 40...\n",
            "epoch: 40 train loss: 0.692 train accuracy: 0.512\n",
            "[INFO] epoch: 41...\n",
            "epoch: 41 train loss: 0.692 train accuracy: 0.512\n",
            "[INFO] epoch: 42...\n",
            "epoch: 42 train loss: 0.692 train accuracy: 0.512\n",
            "[INFO] epoch: 43...\n",
            "epoch: 43 train loss: 0.692 train accuracy: 0.512\n",
            "[INFO] epoch: 44...\n",
            "epoch: 44 train loss: 0.692 train accuracy: 0.512\n",
            "[INFO] epoch: 45...\n",
            "epoch: 45 train loss: 0.691 train accuracy: 0.512\n",
            "[INFO] epoch: 46...\n",
            "epoch: 46 train loss: 0.691 train accuracy: 0.512\n",
            "[INFO] epoch: 47...\n",
            "epoch: 47 train loss: 0.691 train accuracy: 0.512\n",
            "[INFO] epoch: 48...\n",
            "epoch: 48 train loss: 0.691 train accuracy: 0.512\n",
            "[INFO] epoch: 49...\n",
            "epoch: 49 train loss: 0.691 train accuracy: 0.512\n",
            "[INFO] epoch: 50...\n",
            "epoch: 50 train loss: 0.691 train accuracy: 0.512\n",
            "[INFO] epoch: 51...\n",
            "epoch: 51 train loss: 0.690 train accuracy: 0.512\n",
            "[INFO] epoch: 52...\n",
            "epoch: 52 train loss: 0.690 train accuracy: 0.512\n",
            "[INFO] epoch: 53...\n",
            "epoch: 53 train loss: 0.690 train accuracy: 0.512\n",
            "[INFO] epoch: 54...\n",
            "epoch: 54 train loss: 0.690 train accuracy: 0.512\n",
            "[INFO] epoch: 55...\n",
            "epoch: 55 train loss: 0.690 train accuracy: 0.512\n",
            "[INFO] epoch: 56...\n",
            "epoch: 56 train loss: 0.689 train accuracy: 0.512\n",
            "[INFO] epoch: 57...\n",
            "epoch: 57 train loss: 0.689 train accuracy: 0.512\n",
            "[INFO] epoch: 58...\n",
            "epoch: 58 train loss: 0.689 train accuracy: 0.512\n",
            "[INFO] epoch: 59...\n",
            "epoch: 59 train loss: 0.689 train accuracy: 0.512\n",
            "[INFO] epoch: 60...\n",
            "epoch: 60 train loss: 0.689 train accuracy: 0.512\n",
            "[INFO] epoch: 61...\n",
            "epoch: 61 train loss: 0.688 train accuracy: 0.512\n",
            "[INFO] epoch: 62...\n",
            "epoch: 62 train loss: 0.688 train accuracy: 0.512\n",
            "[INFO] epoch: 63...\n",
            "epoch: 63 train loss: 0.688 train accuracy: 0.512\n",
            "[INFO] epoch: 64...\n",
            "epoch: 64 train loss: 0.688 train accuracy: 0.512\n",
            "[INFO] epoch: 65...\n",
            "epoch: 65 train loss: 0.688 train accuracy: 0.512\n",
            "[INFO] epoch: 66...\n",
            "epoch: 66 train loss: 0.687 train accuracy: 0.512\n",
            "[INFO] epoch: 67...\n",
            "epoch: 67 train loss: 0.687 train accuracy: 0.512\n",
            "[INFO] epoch: 68...\n",
            "epoch: 68 train loss: 0.687 train accuracy: 0.512\n",
            "[INFO] epoch: 69...\n",
            "epoch: 69 train loss: 0.687 train accuracy: 0.512\n",
            "[INFO] epoch: 70...\n",
            "epoch: 70 train loss: 0.686 train accuracy: 0.512\n",
            "[INFO] epoch: 71...\n",
            "epoch: 71 train loss: 0.686 train accuracy: 0.512\n",
            "[INFO] epoch: 72...\n",
            "epoch: 72 train loss: 0.686 train accuracy: 0.512\n",
            "[INFO] epoch: 73...\n",
            "epoch: 73 train loss: 0.686 train accuracy: 0.512\n",
            "[INFO] epoch: 74...\n",
            "epoch: 74 train loss: 0.686 train accuracy: 0.512\n",
            "[INFO] epoch: 75...\n",
            "epoch: 75 train loss: 0.685 train accuracy: 0.512\n",
            "[INFO] epoch: 76...\n",
            "epoch: 76 train loss: 0.685 train accuracy: 0.512\n",
            "[INFO] epoch: 77...\n",
            "epoch: 77 train loss: 0.685 train accuracy: 0.512\n",
            "[INFO] epoch: 78...\n",
            "epoch: 78 train loss: 0.685 train accuracy: 0.512\n",
            "[INFO] epoch: 79...\n",
            "epoch: 79 train loss: 0.684 train accuracy: 0.512\n",
            "[INFO] epoch: 80...\n",
            "epoch: 80 train loss: 0.684 train accuracy: 0.512\n",
            "[INFO] epoch: 81...\n",
            "epoch: 81 train loss: 0.684 train accuracy: 0.512\n",
            "[INFO] epoch: 82...\n",
            "epoch: 82 train loss: 0.684 train accuracy: 0.512\n",
            "[INFO] epoch: 83...\n",
            "epoch: 83 train loss: 0.683 train accuracy: 0.512\n",
            "[INFO] epoch: 84...\n",
            "epoch: 84 train loss: 0.683 train accuracy: 0.512\n",
            "[INFO] epoch: 85...\n",
            "epoch: 85 train loss: 0.683 train accuracy: 0.512\n",
            "[INFO] epoch: 86...\n",
            "epoch: 86 train loss: 0.683 train accuracy: 0.512\n",
            "[INFO] epoch: 87...\n",
            "epoch: 87 train loss: 0.682 train accuracy: 0.512\n",
            "[INFO] epoch: 88...\n",
            "epoch: 88 train loss: 0.682 train accuracy: 0.512\n",
            "[INFO] epoch: 89...\n",
            "epoch: 89 train loss: 0.682 train accuracy: 0.512\n",
            "[INFO] epoch: 90...\n",
            "epoch: 90 train loss: 0.682 train accuracy: 0.512\n",
            "[INFO] epoch: 91...\n",
            "epoch: 91 train loss: 0.681 train accuracy: 0.512\n",
            "[INFO] epoch: 92...\n",
            "epoch: 92 train loss: 0.681 train accuracy: 0.512\n",
            "[INFO] epoch: 93...\n",
            "epoch: 93 train loss: 0.681 train accuracy: 0.512\n",
            "[INFO] epoch: 94...\n",
            "epoch: 94 train loss: 0.681 train accuracy: 0.519\n",
            "[INFO] epoch: 95...\n",
            "epoch: 95 train loss: 0.680 train accuracy: 0.525\n",
            "[INFO] epoch: 96...\n",
            "epoch: 96 train loss: 0.680 train accuracy: 0.531\n",
            "[INFO] epoch: 97...\n",
            "epoch: 97 train loss: 0.680 train accuracy: 0.537\n",
            "[INFO] epoch: 98...\n",
            "epoch: 98 train loss: 0.680 train accuracy: 0.544\n",
            "[INFO] epoch: 99...\n",
            "epoch: 99 train loss: 0.679 train accuracy: 0.544\n",
            "[INFO] epoch: 100...\n",
            "epoch: 100 train loss: 0.679 train accuracy: 0.544\n",
            "[INFO] epoch: 101...\n",
            "epoch: 101 train loss: 0.679 train accuracy: 0.544\n",
            "[INFO] epoch: 102...\n",
            "epoch: 102 train loss: 0.679 train accuracy: 0.550\n",
            "[INFO] epoch: 103...\n",
            "epoch: 103 train loss: 0.678 train accuracy: 0.550\n",
            "[INFO] epoch: 104...\n",
            "epoch: 104 train loss: 0.678 train accuracy: 0.550\n",
            "[INFO] epoch: 105...\n",
            "epoch: 105 train loss: 0.678 train accuracy: 0.556\n",
            "[INFO] epoch: 106...\n",
            "epoch: 106 train loss: 0.677 train accuracy: 0.562\n",
            "[INFO] epoch: 107...\n",
            "epoch: 107 train loss: 0.677 train accuracy: 0.569\n",
            "[INFO] epoch: 108...\n",
            "epoch: 108 train loss: 0.677 train accuracy: 0.562\n",
            "[INFO] epoch: 109...\n",
            "epoch: 109 train loss: 0.676 train accuracy: 0.569\n",
            "[INFO] epoch: 110...\n",
            "epoch: 110 train loss: 0.676 train accuracy: 0.569\n",
            "[INFO] epoch: 111...\n",
            "epoch: 111 train loss: 0.676 train accuracy: 0.569\n",
            "[INFO] epoch: 112...\n",
            "epoch: 112 train loss: 0.676 train accuracy: 0.569\n",
            "[INFO] epoch: 113...\n",
            "epoch: 113 train loss: 0.675 train accuracy: 0.581\n",
            "[INFO] epoch: 114...\n",
            "epoch: 114 train loss: 0.675 train accuracy: 0.600\n",
            "[INFO] epoch: 115...\n",
            "epoch: 115 train loss: 0.675 train accuracy: 0.606\n",
            "[INFO] epoch: 116...\n",
            "epoch: 116 train loss: 0.674 train accuracy: 0.619\n",
            "[INFO] epoch: 117...\n",
            "epoch: 117 train loss: 0.674 train accuracy: 0.625\n",
            "[INFO] epoch: 118...\n",
            "epoch: 118 train loss: 0.674 train accuracy: 0.625\n",
            "[INFO] epoch: 119...\n",
            "epoch: 119 train loss: 0.673 train accuracy: 0.631\n",
            "[INFO] epoch: 120...\n",
            "epoch: 120 train loss: 0.673 train accuracy: 0.631\n",
            "[INFO] epoch: 121...\n",
            "epoch: 121 train loss: 0.673 train accuracy: 0.631\n",
            "[INFO] epoch: 122...\n",
            "epoch: 122 train loss: 0.672 train accuracy: 0.631\n",
            "[INFO] epoch: 123...\n",
            "epoch: 123 train loss: 0.672 train accuracy: 0.637\n",
            "[INFO] epoch: 124...\n",
            "epoch: 124 train loss: 0.672 train accuracy: 0.637\n",
            "[INFO] epoch: 125...\n",
            "epoch: 125 train loss: 0.671 train accuracy: 0.644\n",
            "[INFO] epoch: 126...\n",
            "epoch: 126 train loss: 0.671 train accuracy: 0.644\n",
            "[INFO] epoch: 127...\n",
            "epoch: 127 train loss: 0.670 train accuracy: 0.656\n",
            "[INFO] epoch: 128...\n",
            "epoch: 128 train loss: 0.670 train accuracy: 0.662\n",
            "[INFO] epoch: 129...\n",
            "epoch: 129 train loss: 0.670 train accuracy: 0.662\n",
            "[INFO] epoch: 130...\n",
            "epoch: 130 train loss: 0.669 train accuracy: 0.675\n",
            "[INFO] epoch: 131...\n",
            "epoch: 131 train loss: 0.669 train accuracy: 0.681\n",
            "[INFO] epoch: 132...\n",
            "epoch: 132 train loss: 0.669 train accuracy: 0.688\n",
            "[INFO] epoch: 133...\n",
            "epoch: 133 train loss: 0.668 train accuracy: 0.688\n",
            "[INFO] epoch: 134...\n",
            "epoch: 134 train loss: 0.668 train accuracy: 0.694\n",
            "[INFO] epoch: 135...\n",
            "epoch: 135 train loss: 0.667 train accuracy: 0.700\n",
            "[INFO] epoch: 136...\n",
            "epoch: 136 train loss: 0.667 train accuracy: 0.700\n",
            "[INFO] epoch: 137...\n",
            "epoch: 137 train loss: 0.667 train accuracy: 0.700\n",
            "[INFO] epoch: 138...\n",
            "epoch: 138 train loss: 0.666 train accuracy: 0.700\n",
            "[INFO] epoch: 139...\n",
            "epoch: 139 train loss: 0.666 train accuracy: 0.700\n",
            "[INFO] epoch: 140...\n",
            "epoch: 140 train loss: 0.665 train accuracy: 0.700\n",
            "[INFO] epoch: 141...\n",
            "epoch: 141 train loss: 0.665 train accuracy: 0.700\n",
            "[INFO] epoch: 142...\n",
            "epoch: 142 train loss: 0.664 train accuracy: 0.700\n",
            "[INFO] epoch: 143...\n",
            "epoch: 143 train loss: 0.664 train accuracy: 0.706\n",
            "[INFO] epoch: 144...\n",
            "epoch: 144 train loss: 0.664 train accuracy: 0.706\n",
            "[INFO] epoch: 145...\n",
            "epoch: 145 train loss: 0.663 train accuracy: 0.713\n",
            "[INFO] epoch: 146...\n",
            "epoch: 146 train loss: 0.663 train accuracy: 0.713\n",
            "[INFO] epoch: 147...\n",
            "epoch: 147 train loss: 0.662 train accuracy: 0.713\n",
            "[INFO] epoch: 148...\n",
            "epoch: 148 train loss: 0.662 train accuracy: 0.713\n",
            "[INFO] epoch: 149...\n",
            "epoch: 149 train loss: 0.661 train accuracy: 0.713\n",
            "[INFO] epoch: 150...\n",
            "epoch: 150 train loss: 0.661 train accuracy: 0.719\n",
            "[INFO] epoch: 151...\n",
            "epoch: 151 train loss: 0.660 train accuracy: 0.719\n",
            "[INFO] epoch: 152...\n",
            "epoch: 152 train loss: 0.660 train accuracy: 0.719\n",
            "[INFO] epoch: 153...\n",
            "epoch: 153 train loss: 0.659 train accuracy: 0.719\n",
            "[INFO] epoch: 154...\n",
            "epoch: 154 train loss: 0.659 train accuracy: 0.731\n",
            "[INFO] epoch: 155...\n",
            "epoch: 155 train loss: 0.658 train accuracy: 0.731\n",
            "[INFO] epoch: 156...\n",
            "epoch: 156 train loss: 0.658 train accuracy: 0.738\n",
            "[INFO] epoch: 157...\n",
            "epoch: 157 train loss: 0.657 train accuracy: 0.744\n",
            "[INFO] epoch: 158...\n",
            "epoch: 158 train loss: 0.657 train accuracy: 0.756\n",
            "[INFO] epoch: 159...\n",
            "epoch: 159 train loss: 0.656 train accuracy: 0.756\n",
            "[INFO] epoch: 160...\n",
            "epoch: 160 train loss: 0.656 train accuracy: 0.756\n",
            "[INFO] epoch: 161...\n",
            "epoch: 161 train loss: 0.655 train accuracy: 0.756\n",
            "[INFO] epoch: 162...\n",
            "epoch: 162 train loss: 0.655 train accuracy: 0.756\n",
            "[INFO] epoch: 163...\n",
            "epoch: 163 train loss: 0.654 train accuracy: 0.769\n",
            "[INFO] epoch: 164...\n",
            "epoch: 164 train loss: 0.653 train accuracy: 0.775\n",
            "[INFO] epoch: 165...\n",
            "epoch: 165 train loss: 0.653 train accuracy: 0.775\n",
            "[INFO] epoch: 166...\n",
            "epoch: 166 train loss: 0.652 train accuracy: 0.781\n",
            "[INFO] epoch: 167...\n",
            "epoch: 167 train loss: 0.652 train accuracy: 0.781\n",
            "[INFO] epoch: 168...\n",
            "epoch: 168 train loss: 0.651 train accuracy: 0.781\n",
            "[INFO] epoch: 169...\n",
            "epoch: 169 train loss: 0.650 train accuracy: 0.787\n",
            "[INFO] epoch: 170...\n",
            "epoch: 170 train loss: 0.650 train accuracy: 0.787\n",
            "[INFO] epoch: 171...\n",
            "epoch: 171 train loss: 0.649 train accuracy: 0.787\n",
            "[INFO] epoch: 172...\n",
            "epoch: 172 train loss: 0.649 train accuracy: 0.787\n",
            "[INFO] epoch: 173...\n",
            "epoch: 173 train loss: 0.648 train accuracy: 0.794\n",
            "[INFO] epoch: 174...\n",
            "epoch: 174 train loss: 0.647 train accuracy: 0.794\n",
            "[INFO] epoch: 175...\n",
            "epoch: 175 train loss: 0.647 train accuracy: 0.794\n",
            "[INFO] epoch: 176...\n",
            "epoch: 176 train loss: 0.646 train accuracy: 0.794\n",
            "[INFO] epoch: 177...\n",
            "epoch: 177 train loss: 0.645 train accuracy: 0.800\n",
            "[INFO] epoch: 178...\n",
            "epoch: 178 train loss: 0.645 train accuracy: 0.800\n",
            "[INFO] epoch: 179...\n",
            "epoch: 179 train loss: 0.644 train accuracy: 0.800\n",
            "[INFO] epoch: 180...\n",
            "epoch: 180 train loss: 0.643 train accuracy: 0.800\n",
            "[INFO] epoch: 181...\n",
            "epoch: 181 train loss: 0.643 train accuracy: 0.800\n",
            "[INFO] epoch: 182...\n",
            "epoch: 182 train loss: 0.642 train accuracy: 0.806\n",
            "[INFO] epoch: 183...\n",
            "epoch: 183 train loss: 0.641 train accuracy: 0.806\n",
            "[INFO] epoch: 184...\n",
            "epoch: 184 train loss: 0.640 train accuracy: 0.812\n",
            "[INFO] epoch: 185...\n",
            "epoch: 185 train loss: 0.640 train accuracy: 0.812\n",
            "[INFO] epoch: 186...\n",
            "epoch: 186 train loss: 0.639 train accuracy: 0.812\n",
            "[INFO] epoch: 187...\n",
            "epoch: 187 train loss: 0.638 train accuracy: 0.819\n",
            "[INFO] epoch: 188...\n",
            "epoch: 188 train loss: 0.638 train accuracy: 0.819\n",
            "[INFO] epoch: 189...\n",
            "epoch: 189 train loss: 0.637 train accuracy: 0.819\n",
            "[INFO] epoch: 190...\n",
            "epoch: 190 train loss: 0.636 train accuracy: 0.819\n",
            "[INFO] epoch: 191...\n",
            "epoch: 191 train loss: 0.635 train accuracy: 0.819\n",
            "[INFO] epoch: 192...\n",
            "epoch: 192 train loss: 0.634 train accuracy: 0.819\n",
            "[INFO] epoch: 193...\n",
            "epoch: 193 train loss: 0.634 train accuracy: 0.825\n",
            "[INFO] epoch: 194...\n",
            "epoch: 194 train loss: 0.633 train accuracy: 0.831\n",
            "[INFO] epoch: 195...\n",
            "epoch: 195 train loss: 0.632 train accuracy: 0.838\n",
            "[INFO] epoch: 196...\n",
            "epoch: 196 train loss: 0.631 train accuracy: 0.838\n",
            "[INFO] epoch: 197...\n",
            "epoch: 197 train loss: 0.630 train accuracy: 0.838\n",
            "[INFO] epoch: 198...\n",
            "epoch: 198 train loss: 0.630 train accuracy: 0.838\n",
            "[INFO] epoch: 199...\n",
            "epoch: 199 train loss: 0.629 train accuracy: 0.844\n",
            "[INFO] epoch: 200...\n",
            "epoch: 200 train loss: 0.628 train accuracy: 0.844\n",
            "[INFO] epoch: 201...\n",
            "epoch: 201 train loss: 0.627 train accuracy: 0.844\n",
            "[INFO] epoch: 202...\n",
            "epoch: 202 train loss: 0.626 train accuracy: 0.844\n",
            "[INFO] epoch: 203...\n",
            "epoch: 203 train loss: 0.625 train accuracy: 0.844\n",
            "[INFO] epoch: 204...\n",
            "epoch: 204 train loss: 0.624 train accuracy: 0.844\n",
            "[INFO] epoch: 205...\n",
            "epoch: 205 train loss: 0.623 train accuracy: 0.850\n",
            "[INFO] epoch: 206...\n",
            "epoch: 206 train loss: 0.622 train accuracy: 0.863\n",
            "[INFO] epoch: 207...\n",
            "epoch: 207 train loss: 0.622 train accuracy: 0.863\n",
            "[INFO] epoch: 208...\n",
            "epoch: 208 train loss: 0.621 train accuracy: 0.863\n",
            "[INFO] epoch: 209...\n",
            "epoch: 209 train loss: 0.620 train accuracy: 0.863\n",
            "[INFO] epoch: 210...\n",
            "epoch: 210 train loss: 0.619 train accuracy: 0.863\n",
            "[INFO] epoch: 211...\n",
            "epoch: 211 train loss: 0.618 train accuracy: 0.863\n",
            "[INFO] epoch: 212...\n",
            "epoch: 212 train loss: 0.617 train accuracy: 0.863\n",
            "[INFO] epoch: 213...\n",
            "epoch: 213 train loss: 0.616 train accuracy: 0.863\n",
            "[INFO] epoch: 214...\n",
            "epoch: 214 train loss: 0.615 train accuracy: 0.863\n",
            "[INFO] epoch: 215...\n",
            "epoch: 215 train loss: 0.614 train accuracy: 0.863\n",
            "[INFO] epoch: 216...\n",
            "epoch: 216 train loss: 0.613 train accuracy: 0.863\n",
            "[INFO] epoch: 217...\n",
            "epoch: 217 train loss: 0.612 train accuracy: 0.863\n",
            "[INFO] epoch: 218...\n",
            "epoch: 218 train loss: 0.611 train accuracy: 0.863\n",
            "[INFO] epoch: 219...\n",
            "epoch: 219 train loss: 0.610 train accuracy: 0.863\n",
            "[INFO] epoch: 220...\n",
            "epoch: 220 train loss: 0.609 train accuracy: 0.863\n",
            "[INFO] epoch: 221...\n",
            "epoch: 221 train loss: 0.607 train accuracy: 0.863\n",
            "[INFO] epoch: 222...\n",
            "epoch: 222 train loss: 0.606 train accuracy: 0.869\n",
            "[INFO] epoch: 223...\n",
            "epoch: 223 train loss: 0.605 train accuracy: 0.875\n",
            "[INFO] epoch: 224...\n",
            "epoch: 224 train loss: 0.604 train accuracy: 0.881\n",
            "[INFO] epoch: 225...\n",
            "epoch: 225 train loss: 0.603 train accuracy: 0.881\n",
            "[INFO] epoch: 226...\n",
            "epoch: 226 train loss: 0.602 train accuracy: 0.887\n",
            "[INFO] epoch: 227...\n",
            "epoch: 227 train loss: 0.601 train accuracy: 0.894\n",
            "[INFO] epoch: 228...\n",
            "epoch: 228 train loss: 0.600 train accuracy: 0.894\n",
            "[INFO] epoch: 229...\n",
            "epoch: 229 train loss: 0.598 train accuracy: 0.906\n",
            "[INFO] epoch: 230...\n",
            "epoch: 230 train loss: 0.597 train accuracy: 0.906\n",
            "[INFO] epoch: 231...\n",
            "epoch: 231 train loss: 0.596 train accuracy: 0.906\n",
            "[INFO] epoch: 232...\n",
            "epoch: 232 train loss: 0.595 train accuracy: 0.912\n",
            "[INFO] epoch: 233...\n",
            "epoch: 233 train loss: 0.594 train accuracy: 0.912\n",
            "[INFO] epoch: 234...\n",
            "epoch: 234 train loss: 0.592 train accuracy: 0.919\n",
            "[INFO] epoch: 235...\n",
            "epoch: 235 train loss: 0.591 train accuracy: 0.919\n",
            "[INFO] epoch: 236...\n",
            "epoch: 236 train loss: 0.590 train accuracy: 0.925\n",
            "[INFO] epoch: 237...\n",
            "epoch: 237 train loss: 0.589 train accuracy: 0.931\n",
            "[INFO] epoch: 238...\n",
            "epoch: 238 train loss: 0.587 train accuracy: 0.931\n",
            "[INFO] epoch: 239...\n",
            "epoch: 239 train loss: 0.586 train accuracy: 0.931\n",
            "[INFO] epoch: 240...\n",
            "epoch: 240 train loss: 0.585 train accuracy: 0.931\n",
            "[INFO] epoch: 241...\n",
            "epoch: 241 train loss: 0.584 train accuracy: 0.931\n",
            "[INFO] epoch: 242...\n",
            "epoch: 242 train loss: 0.582 train accuracy: 0.931\n",
            "[INFO] epoch: 243...\n",
            "epoch: 243 train loss: 0.581 train accuracy: 0.931\n",
            "[INFO] epoch: 244...\n",
            "epoch: 244 train loss: 0.580 train accuracy: 0.938\n",
            "[INFO] epoch: 245...\n",
            "epoch: 245 train loss: 0.578 train accuracy: 0.944\n",
            "[INFO] epoch: 246...\n",
            "epoch: 246 train loss: 0.577 train accuracy: 0.944\n",
            "[INFO] epoch: 247...\n",
            "epoch: 247 train loss: 0.576 train accuracy: 0.944\n",
            "[INFO] epoch: 248...\n",
            "epoch: 248 train loss: 0.574 train accuracy: 0.944\n",
            "[INFO] epoch: 249...\n",
            "epoch: 249 train loss: 0.573 train accuracy: 0.950\n",
            "[INFO] epoch: 250...\n",
            "epoch: 250 train loss: 0.571 train accuracy: 0.950\n",
            "[INFO] epoch: 251...\n",
            "epoch: 251 train loss: 0.570 train accuracy: 0.956\n",
            "[INFO] epoch: 252...\n",
            "epoch: 252 train loss: 0.568 train accuracy: 0.956\n",
            "[INFO] epoch: 253...\n",
            "epoch: 253 train loss: 0.567 train accuracy: 0.956\n",
            "[INFO] epoch: 254...\n",
            "epoch: 254 train loss: 0.566 train accuracy: 0.963\n",
            "[INFO] epoch: 255...\n",
            "epoch: 255 train loss: 0.564 train accuracy: 0.963\n",
            "[INFO] epoch: 256...\n",
            "epoch: 256 train loss: 0.563 train accuracy: 0.963\n",
            "[INFO] epoch: 257...\n",
            "epoch: 257 train loss: 0.561 train accuracy: 0.963\n",
            "[INFO] epoch: 258...\n",
            "epoch: 258 train loss: 0.560 train accuracy: 0.963\n",
            "[INFO] epoch: 259...\n",
            "epoch: 259 train loss: 0.558 train accuracy: 0.969\n",
            "[INFO] epoch: 260...\n",
            "epoch: 260 train loss: 0.557 train accuracy: 0.969\n",
            "[INFO] epoch: 261...\n",
            "epoch: 261 train loss: 0.555 train accuracy: 0.969\n",
            "[INFO] epoch: 262...\n",
            "epoch: 262 train loss: 0.554 train accuracy: 0.969\n",
            "[INFO] epoch: 263...\n",
            "epoch: 263 train loss: 0.552 train accuracy: 0.969\n",
            "[INFO] epoch: 264...\n",
            "epoch: 264 train loss: 0.550 train accuracy: 0.969\n",
            "[INFO] epoch: 265...\n",
            "epoch: 265 train loss: 0.549 train accuracy: 0.969\n",
            "[INFO] epoch: 266...\n",
            "epoch: 266 train loss: 0.547 train accuracy: 0.969\n",
            "[INFO] epoch: 267...\n",
            "epoch: 267 train loss: 0.546 train accuracy: 0.969\n",
            "[INFO] epoch: 268...\n",
            "epoch: 268 train loss: 0.544 train accuracy: 0.969\n",
            "[INFO] epoch: 269...\n",
            "epoch: 269 train loss: 0.542 train accuracy: 0.969\n",
            "[INFO] epoch: 270...\n",
            "epoch: 270 train loss: 0.541 train accuracy: 0.969\n",
            "[INFO] epoch: 271...\n",
            "epoch: 271 train loss: 0.539 train accuracy: 0.969\n",
            "[INFO] epoch: 272...\n",
            "epoch: 272 train loss: 0.538 train accuracy: 0.969\n",
            "[INFO] epoch: 273...\n",
            "epoch: 273 train loss: 0.536 train accuracy: 0.969\n",
            "[INFO] epoch: 274...\n",
            "epoch: 274 train loss: 0.534 train accuracy: 0.969\n",
            "[INFO] epoch: 275...\n",
            "epoch: 275 train loss: 0.532 train accuracy: 0.969\n",
            "[INFO] epoch: 276...\n",
            "epoch: 276 train loss: 0.531 train accuracy: 0.969\n",
            "[INFO] epoch: 277...\n",
            "epoch: 277 train loss: 0.529 train accuracy: 0.969\n",
            "[INFO] epoch: 278...\n",
            "epoch: 278 train loss: 0.527 train accuracy: 0.969\n",
            "[INFO] epoch: 279...\n",
            "epoch: 279 train loss: 0.526 train accuracy: 0.969\n",
            "[INFO] epoch: 280...\n",
            "epoch: 280 train loss: 0.524 train accuracy: 0.975\n",
            "[INFO] epoch: 281...\n",
            "epoch: 281 train loss: 0.522 train accuracy: 0.975\n",
            "[INFO] epoch: 282...\n",
            "epoch: 282 train loss: 0.520 train accuracy: 0.975\n",
            "[INFO] epoch: 283...\n",
            "epoch: 283 train loss: 0.519 train accuracy: 0.975\n",
            "[INFO] epoch: 284...\n",
            "epoch: 284 train loss: 0.517 train accuracy: 0.975\n",
            "[INFO] epoch: 285...\n",
            "epoch: 285 train loss: 0.515 train accuracy: 0.975\n",
            "[INFO] epoch: 286...\n",
            "epoch: 286 train loss: 0.513 train accuracy: 0.975\n",
            "[INFO] epoch: 287...\n",
            "epoch: 287 train loss: 0.511 train accuracy: 0.975\n",
            "[INFO] epoch: 288...\n",
            "epoch: 288 train loss: 0.510 train accuracy: 0.975\n",
            "[INFO] epoch: 289...\n",
            "epoch: 289 train loss: 0.508 train accuracy: 0.981\n",
            "[INFO] epoch: 290...\n",
            "epoch: 290 train loss: 0.506 train accuracy: 0.981\n",
            "[INFO] epoch: 291...\n",
            "epoch: 291 train loss: 0.504 train accuracy: 0.981\n",
            "[INFO] epoch: 292...\n",
            "epoch: 292 train loss: 0.502 train accuracy: 0.981\n",
            "[INFO] epoch: 293...\n",
            "epoch: 293 train loss: 0.500 train accuracy: 0.981\n",
            "[INFO] epoch: 294...\n",
            "epoch: 294 train loss: 0.498 train accuracy: 0.981\n",
            "[INFO] epoch: 295...\n",
            "epoch: 295 train loss: 0.497 train accuracy: 0.981\n",
            "[INFO] epoch: 296...\n",
            "epoch: 296 train loss: 0.495 train accuracy: 0.981\n",
            "[INFO] epoch: 297...\n",
            "epoch: 297 train loss: 0.493 train accuracy: 0.981\n",
            "[INFO] epoch: 298...\n",
            "epoch: 298 train loss: 0.491 train accuracy: 0.988\n",
            "[INFO] epoch: 299...\n",
            "epoch: 299 train loss: 0.489 train accuracy: 0.988\n",
            "[INFO] epoch: 300...\n",
            "epoch: 300 train loss: 0.487 train accuracy: 0.988\n"
          ]
        }
      ]
    },
    {
      "cell_type": "code",
      "source": [
        "pred = mlp(X_test)"
      ],
      "metadata": {
        "id": "KakebkiVfOmU"
      },
      "id": "KakebkiVfOmU",
      "execution_count": null,
      "outputs": []
    },
    {
      "cell_type": "code",
      "source": [
        "pred = pred.max(1)[1]\n",
        "pred"
      ],
      "metadata": {
        "colab": {
          "base_uri": "https://localhost:8080/"
        },
        "id": "w7MdPtBcUtS4",
        "outputId": "b47080e8-1204-49ea-82a2-d2a8533230a6"
      },
      "id": "w7MdPtBcUtS4",
      "execution_count": null,
      "outputs": [
        {
          "output_type": "execute_result",
          "data": {
            "text/plain": [
              "tensor([1, 1, 0, 1, 1, 1, 0, 0, 1, 0, 0, 0, 0, 0, 0, 1, 0, 1, 0, 1, 1, 0, 0, 0,\n",
              "        1, 0, 1, 0, 0, 1, 0, 1, 1, 0, 1, 0, 1, 1, 1, 0], device='cuda:0')"
            ]
          },
          "metadata": {},
          "execution_count": 129
        }
      ]
    },
    {
      "cell_type": "code",
      "source": [
        "y_test"
      ],
      "metadata": {
        "colab": {
          "base_uri": "https://localhost:8080/"
        },
        "id": "vKnFN4YEVlxh",
        "outputId": "cba51e04-ba66-4284-d23a-e4fbea1106e9"
      },
      "id": "vKnFN4YEVlxh",
      "execution_count": null,
      "outputs": [
        {
          "output_type": "execute_result",
          "data": {
            "text/plain": [
              "tensor([1, 1, 0, 1, 1, 1, 0, 0, 1, 0, 0, 0, 0, 0, 0, 1, 0, 1, 0, 1, 1, 0, 0, 0,\n",
              "        1, 0, 0, 0, 0, 1, 0, 1, 1, 0, 1, 0, 1, 1, 1, 0], device='cuda:0')"
            ]
          },
          "metadata": {},
          "execution_count": 130
        }
      ]
    },
    {
      "cell_type": "code",
      "source": [
        "from sklearn.metrics import confusion_matrix\n",
        "import seaborn as sn\n",
        "import pandas as pd\n",
        "import numpy as np\n",
        "import matplotlib.pyplot as plt"
      ],
      "metadata": {
        "id": "ZEr03kvhW_7i"
      },
      "id": "ZEr03kvhW_7i",
      "execution_count": null,
      "outputs": []
    },
    {
      "cell_type": "code",
      "source": [
        "y_true = y_test.to('cpu')\n",
        "y_pred = pred.to('cpu')\n",
        "y_true"
      ],
      "metadata": {
        "colab": {
          "base_uri": "https://localhost:8080/"
        },
        "id": "5HXt3yt8Xe5U",
        "outputId": "45e0e8b2-9ddf-4afb-d27f-24418ca396a3"
      },
      "id": "5HXt3yt8Xe5U",
      "execution_count": null,
      "outputs": [
        {
          "output_type": "execute_result",
          "data": {
            "text/plain": [
              "tensor([1, 1, 0, 1, 1, 1, 0, 0, 1, 0, 0, 0, 0, 0, 0, 1, 0, 1, 0, 1, 1, 0, 0, 0,\n",
              "        1, 0, 0, 0, 0, 1, 0, 1, 1, 0, 1, 0, 1, 1, 1, 0])"
            ]
          },
          "metadata": {},
          "execution_count": 132
        }
      ]
    },
    {
      "cell_type": "code",
      "source": [
        "y_true = y_true.numpy()\n",
        "y_pred = y_pred.numpy()"
      ],
      "metadata": {
        "id": "UB7AZi5LavYR"
      },
      "id": "UB7AZi5LavYR",
      "execution_count": null,
      "outputs": []
    },
    {
      "cell_type": "code",
      "source": [
        "cf_matrix = confusion_matrix(y_true, y_pred)\n",
        "cf_matrix"
      ],
      "metadata": {
        "colab": {
          "base_uri": "https://localhost:8080/"
        },
        "id": "U28utq--YsFO",
        "outputId": "1d7ca13e-7616-4d0f-dabf-0d5bcf82acf7"
      },
      "id": "U28utq--YsFO",
      "execution_count": null,
      "outputs": [
        {
          "output_type": "execute_result",
          "data": {
            "text/plain": [
              "array([[21,  1],\n",
              "       [ 0, 18]])"
            ]
          },
          "metadata": {},
          "execution_count": 134
        }
      ]
    },
    {
      "cell_type": "code",
      "source": [
        "classes = ['Not Counterfiet','Counterfiet']"
      ],
      "metadata": {
        "id": "cwTFJfstbz1V"
      },
      "id": "cwTFJfstbz1V",
      "execution_count": null,
      "outputs": []
    },
    {
      "cell_type": "code",
      "source": [
        "df_cm = pd.DataFrame(cf_matrix / np.sum(cf_matrix, axis=1)[:, None], index = [i for i in classes],\n",
        "                     columns = [i for i in classes])\n",
        "plt.figure(figsize = (12,7))\n",
        "sn.heatmap(df_cm, annot=True)"
      ],
      "metadata": {
        "colab": {
          "base_uri": "https://localhost:8080/",
          "height": 449
        },
        "id": "M0UU1S4faUQR",
        "outputId": "6a962f44-c8fa-4c8a-fff2-e43661f39ddd"
      },
      "id": "M0UU1S4faUQR",
      "execution_count": null,
      "outputs": [
        {
          "output_type": "execute_result",
          "data": {
            "text/plain": [
              "<Axes: >"
            ]
          },
          "metadata": {},
          "execution_count": 136
        },
        {
          "output_type": "display_data",
          "data": {
            "text/plain": [
              "<Figure size 864x504 with 2 Axes>"
            ],
            "image/png": "[encoded data removed]"
          },
          "metadata": {
            "needs_background": "light"
          }
        }
      ]
    },
    {
      "cell_type": "code",
      "source": [],
      "metadata": {
        "id": "iGHMY6gEb5aC"
      },
      "id": "iGHMY6gEb5aC",
      "execution_count": null,
      "outputs": []
    },
    {
      "cell_type": "markdown",
      "source": [
        "# Simple Classifier"
      ],
      "metadata": {
        "id": "x_xpxw-Vp_Xx"
      },
      "id": "x_xpxw-Vp_Xx"
    },
    {
      "cell_type": "code",
      "source": [
        "pcaX = pca_x.to('cpu')\n",
        "pcaX = pcaX.numpy()\n",
        "pcaX"
      ],
      "metadata": {
        "id": "k7uN8fOqqB40"
      },
      "id": "k7uN8fOqqB40",
      "execution_count": null,
      "outputs": []
    },
    {
      "cell_type": "code",
      "source": [
        "yOut = PyY.to('cpu')\n",
        "yOut = yOut.numpy()\n",
        "yOut"
      ],
      "metadata": {
        "colab": {
          "base_uri": "https://localhost:8080/"
        },
        "id": "sX9-YLhnqI5v",
        "outputId": "1fbe887b-f1a1-401e-ea56-680bc4f1a784"
      },
      "id": "sX9-YLhnqI5v",
      "execution_count": null,
      "outputs": [
        {
          "output_type": "execute_result",
          "data": {
            "text/plain": [
              "array([0, 1, 1, 0, 0, 0, 1, 1, 0, 1, 0, 0, 0, 0, 1, 1, 1, 0, 0, 0, 0, 1,\n",
              "       1, 1, 1, 1, 1, 0, 0, 0, 0, 0, 1, 0, 1, 1, 1, 1, 1, 0, 1, 1, 0, 1,\n",
              "       1, 1, 0, 0, 1, 1, 0, 0, 0, 0, 0, 1, 1, 0, 0, 1, 0, 0, 1, 1, 0, 0,\n",
              "       1, 0, 1, 1, 1, 1, 0, 1, 0, 0, 0, 0, 1, 0, 1, 1, 1, 0, 1, 1, 0, 0,\n",
              "       1, 1, 1, 1, 0, 1, 1, 0, 1, 0, 0, 0, 0, 1, 1, 1, 1, 1, 0, 1, 0, 1,\n",
              "       1, 1, 1, 0, 1, 0, 0, 1, 0, 0, 0, 0, 1, 1, 1, 0, 0, 1, 1, 1, 1, 0,\n",
              "       1, 1, 1, 0, 0, 0, 0, 1, 0, 0, 1, 0, 0, 1, 1, 0, 0, 0, 1, 0, 1, 0,\n",
              "       1, 1, 0, 1, 0, 0, 1, 1, 1, 1, 0, 1, 0, 0, 1, 0, 1, 0, 0, 0, 0, 0,\n",
              "       1, 1, 0, 0, 1, 0, 1, 0, 0, 0, 0, 0, 1, 1, 1, 0, 0, 0, 1, 0, 1, 1,\n",
              "       0, 1])"
            ]
          },
          "metadata": {},
          "execution_count": 27
        }
      ]
    },
    {
      "cell_type": "code",
      "source": [
        "from sklearn.model_selection import train_test_split\n",
        "X_train, X_test, y_train, y_test = train_test_split(pcaX,yOut,test_size=0.20)"
      ],
      "metadata": {
        "id": "YSumqZYZqOYZ"
      },
      "id": "YSumqZYZqOYZ",
      "execution_count": null,
      "outputs": []
    },
    {
      "cell_type": "code",
      "source": [
        "from sklearn.ensemble import RandomForestClassifier\n",
        "clf = RandomForestClassifier()\n",
        "clf.fit(X_train,y_train)"
      ],
      "metadata": {
        "colab": {
          "base_uri": "https://localhost:8080/",
          "height": 74
        },
        "id": "UyQP9SIiq-TJ",
        "outputId": "fdea6d9a-766e-4bea-d267-9f1400fd1824"
      },
      "id": "UyQP9SIiq-TJ",
      "execution_count": null,
      "outputs": [
        {
          "output_type": "execute_result",
          "data": {
            "text/plain": [
              "RandomForestClassifier()"
            ],
            "text/html": [
              "<style>#sk-container-id-1 {color: black;background-color: white;}#sk-container-id-1 pre{padding: 0;}#sk-container-id-1 div.sk-toggleable {background-color: white;}#sk-container-id-1 label.sk-toggleable__label {cursor: pointer;display: block;width: 100%;margin-bottom: 0;padding: 0.3em;box-sizing: border-box;text-align: center;}#sk-container-id-1 label.sk-toggleable__label-arrow:before {content: \"▸\";float: left;margin-right: 0.25em;color: #696969;}#sk-container-id-1 label.sk-toggleable__label-arrow:hover:before {color: black;}#sk-container-id-1 div.sk-estimator:hover label.sk-toggleable__label-arrow:before {color: black;}#sk-container-id-1 div.sk-toggleable__content {max-height: 0;max-width: 0;overflow: hidden;text-align: left;background-color: #f0f8ff;}#sk-container-id-1 div.sk-toggleable__content pre {margin: 0.2em;color: black;border-radius: 0.25em;background-color: #f0f8ff;}#sk-container-id-1 input.sk-toggleable__control:checked~div.sk-toggleable__content {max-height: 200px;max-width: 100%;overflow: auto;}#sk-container-id-1 input.sk-toggleable__control:checked~label.sk-toggleable__label-arrow:before {content: \"▾\";}#sk-container-id-1 div.sk-estimator input.sk-toggleable__control:checked~label.sk-toggleable__label {background-color: #d4ebff;}#sk-container-id-1 div.sk-label input.sk-toggleable__control:checked~label.sk-toggleable__label {background-color: #d4ebff;}#sk-container-id-1 input.sk-hidden--visually {border: 0;clip: rect(1px 1px 1px 1px);clip: rect(1px, 1px, 1px, 1px);height: 1px;margin: -1px;overflow: hidden;padding: 0;position: absolute;width: 1px;}#sk-container-id-1 div.sk-estimator {font-family: monospace;background-color: #f0f8ff;border: 1px dotted black;border-radius: 0.25em;box-sizing: border-box;margin-bottom: 0.5em;}#sk-container-id-1 div.sk-estimator:hover {background-color: #d4ebff;}#sk-container-id-1 div.sk-parallel-item::after {content: \"\";width: 100%;border-bottom: 1px solid gray;flex-grow: 1;}#sk-container-id-1 div.sk-label:hover label.sk-toggleable__label {background-color: #d4ebff;}#sk-container-id-1 div.sk-serial::before {content: \"\";position: absolute;border-left: 1px solid gray;box-sizing: border-box;top: 0;bottom: 0;left: 50%;z-index: 0;}#sk-container-id-1 div.sk-serial {display: flex;flex-direction: column;align-items: center;background-color: white;padding-right: 0.2em;padding-left: 0.2em;position: relative;}#sk-container-id-1 div.sk-item {position: relative;z-index: 1;}#sk-container-id-1 div.sk-parallel {display: flex;align-items: stretch;justify-content: center;background-color: white;position: relative;}#sk-container-id-1 div.sk-item::before, #sk-container-id-1 div.sk-parallel-item::before {content: \"\";position: absolute;border-left: 1px solid gray;box-sizing: border-box;top: 0;bottom: 0;left: 50%;z-index: -1;}#sk-container-id-1 div.sk-parallel-item {display: flex;flex-direction: column;z-index: 1;position: relative;background-color: white;}#sk-container-id-1 div.sk-parallel-item:first-child::after {align-self: flex-end;width: 50%;}#sk-container-id-1 div.sk-parallel-item:last-child::after {align-self: flex-start;width: 50%;}#sk-container-id-1 div.sk-parallel-item:only-child::after {width: 0;}#sk-container-id-1 div.sk-dashed-wrapped {border: 1px dashed gray;margin: 0 0.4em 0.5em 0.4em;box-sizing: border-box;padding-bottom: 0.4em;background-color: white;}#sk-container-id-1 div.sk-label label {font-family: monospace;font-weight: bold;display: inline-block;line-height: 1.2em;}#sk-container-id-1 div.sk-label-container {text-align: center;}#sk-container-id-1 div.sk-container {/* jupyter's `normalize.less` sets `[hidden] { display: none; }` but bootstrap.min.css set `[hidden] { display: none !important; }` so we also need the `!important` here to be able to override the default hidden behavior on the sphinx rendered scikit-learn.org. See: https://github.com/scikit-learn/scikit-learn/issues/21755 */display: inline-block !important;position: relative;}#sk-container-id-1 div.sk-text-repr-fallback {display: none;}</style><div id=\"sk-container-id-1\" class=\"sk-top-container\"><div class=\"sk-text-repr-fallback\"><pre>RandomForestClassifier()</pre><b>In a Jupyter environment, please rerun this cell to show the HTML representation or trust the notebook. <br />On GitHub, the HTML representation is unable to render, please try loading this page with nbviewer.org.</b></div><div class=\"sk-container\" hidden><div class=\"sk-item\"><div class=\"sk-estimator sk-toggleable\"><input class=\"sk-toggleable__control sk-hidden--visually\" id=\"sk-estimator-id-1\" type=\"checkbox\" checked><label for=\"sk-estimator-id-1\" class=\"sk-toggleable__label sk-toggleable__label-arrow\">RandomForestClassifier</label><div class=\"sk-toggleable__content\"><pre>RandomForestClassifier()</pre></div></div></div></div></div>"
            ]
          },
          "metadata": {},
          "execution_count": 33
        }
      ]
    },
    {
      "cell_type": "code",
      "source": [
        "y_pred = clf.predict(X_test)"
      ],
      "metadata": {
        "id": "kFs6I3W1rM4q"
      },
      "id": "kFs6I3W1rM4q",
      "execution_count": null,
      "outputs": []
    },
    {
      "cell_type": "code",
      "source": [
        "y_pred,y_test"
      ],
      "metadata": {
        "colab": {
          "base_uri": "https://localhost:8080/"
        },
        "id": "a0O6escNrQA4",
        "outputId": "8f05236f-92b6-4528-9ed3-c6210418365d"
      },
      "id": "a0O6escNrQA4",
      "execution_count": null,
      "outputs": [
        {
          "output_type": "execute_result",
          "data": {
            "text/plain": [
              "(array([0, 0, 0, 0, 1, 1, 0, 0, 0, 1, 1, 1, 0, 1, 1, 1, 1, 0, 0, 1, 0, 1,\n",
              "        1, 1, 1, 1, 1, 0, 1, 0, 0, 1, 1, 1, 0, 0, 0, 0, 0, 0]),\n",
              " array([0, 0, 0, 0, 1, 1, 0, 0, 0, 1, 1, 1, 0, 1, 0, 1, 1, 0, 0, 1, 0, 1,\n",
              "        1, 1, 1, 1, 1, 0, 1, 0, 0, 1, 1, 1, 0, 0, 0, 0, 0, 0]))"
            ]
          },
          "metadata": {},
          "execution_count": 37
        }
      ]
    },
    {
      "cell_type": "code",
      "source": [
        "from sklearn.metrics import confusion_matrix\n",
        "import seaborn as sn\n",
        "import pandas as pd\n",
        "import numpy as np\n",
        "import matplotlib.pyplot as plt"
      ],
      "metadata": {
        "id": "yTbPMRDPraay"
      },
      "id": "yTbPMRDPraay",
      "execution_count": null,
      "outputs": []
    },
    {
      "cell_type": "code",
      "source": [
        "cf_matrix = confusion_matrix(y_test, y_pred)\n",
        "cf_matrix"
      ],
      "metadata": {
        "colab": {
          "base_uri": "https://localhost:8080/"
        },
        "id": "CplP7DH0rh5N",
        "outputId": "264306bf-59a6-48a3-ba86-0fc361aa395e"
      },
      "id": "CplP7DH0rh5N",
      "execution_count": null,
      "outputs": [
        {
          "output_type": "execute_result",
          "data": {
            "text/plain": [
              "array([[20,  1],\n",
              "       [ 0, 19]])"
            ]
          },
          "metadata": {},
          "execution_count": 42
        }
      ]
    },
    {
      "cell_type": "code",
      "source": [
        "classes = ['Not Counterfiet','Counterfiet']\n",
        "df_cm = pd.DataFrame(cf_matrix / np.sum(cf_matrix, axis=1)[:, None], index = [i for i in classes],\n",
        "                     columns = [i for i in classes])\n",
        "plt.figure(figsize = (12,7))\n",
        "sn.heatmap(df_cm, annot=True)"
      ],
      "metadata": {
        "colab": {
          "base_uri": "https://localhost:8080/",
          "height": 600
        },
        "id": "wSLE8BEZroKF",
        "outputId": "148f3f17-01ba-4bb6-b73e-ca7e46cdc3a7"
      },
      "id": "wSLE8BEZroKF",
      "execution_count": null,
      "outputs": [
        {
          "output_type": "execute_result",
          "data": {
            "text/plain": [
              "<Axes: >"
            ]
          },
          "metadata": {},
          "execution_count": 44
        },
        {
          "output_type": "display_data",
          "data": {
            "text/plain": [
              "<Figure size 1200x700 with 2 Axes>"
            ],
            "image/png": "[encoded data removed]"
          },
          "metadata": {}
        }
      ]
    },
    {
      "cell_type": "code",
      "source": [],
      "metadata": {
        "id": "AWChmhJqrs2u"
      },
      "id": "AWChmhJqrs2u",
      "execution_count": null,
      "outputs": []
    }
  ],
  "metadata": {
    "kernelspec": {
      "display_name": "Python 3 (ipykernel)",
      "language": "python",
      "name": "python3"
    },
    "language_info": {
      "codemirror_mode": {
        "name": "ipython",
        "version": 3
      },
      "file_extension": ".py",
      "mimetype": "text/x-python",
      "name": "python",
      "nbconvert_exporter": "python",
      "pygments_lexer": "ipython3",
      "version": "3.8.13"
    },
    "colab": {
      "provenance": []
    },
    "accelerator": "GPU",
    "gpuClass": "standard"
  },
  "nbformat": 4,
  "nbformat_minor": 5
}