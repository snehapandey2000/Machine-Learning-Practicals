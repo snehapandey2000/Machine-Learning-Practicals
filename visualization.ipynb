{
  "cells": [
    {
      "cell_type": "code",
      "execution_count": 1,
      "metadata": {
        "id": "WH2-1gbZo3jY"
      },
      "outputs": [],
      "source": [
        "import matplotlib.pyplot as plt\n",
        "import pandas as pd\n",
        "import numpy as np\n",
        "import seaborn as sns"
      ]
    },
    {
      "cell_type": "code",
      "execution_count": 2,
      "metadata": {
        "id": "ew6HFfaYpX25"
      },
      "outputs": [],
      "source": [
        "\n",
        "data = pd.read_csv('student_marks.csv')\n",
        "df=pd.DataFrame(data)\n",
        "df[\"Roll no.\"]=np.arange(1,101)"
      ]
    },
    {
      "cell_type": "code",
      "execution_count": 3,
      "metadata": {
        "colab": {
          "base_uri": "https://localhost:8080/",
          "height": 206
        },
        "id": "buudEq85reXj",
        "outputId": "01e94fb6-8ec5-468a-9061-9838c7ae7de5"
      },
      "outputs": [
        {
          "data": {
            "text/html": [
              "<div>\n",
              "<style scoped>\n",
              "    .dataframe tbody tr th:only-of-type {\n",
              "        vertical-align: middle;\n",
              "    }\n",
              "\n",
              "    .dataframe tbody tr th {\n",
              "        vertical-align: top;\n",
              "    }\n",
              "\n",
              "    .dataframe thead th {\n",
              "        text-align: right;\n",
              "    }\n",
              "</style>\n",
              "<table border=\"1\" class=\"dataframe\">\n",
              "  <thead>\n",
              "    <tr style=\"text-align: right;\">\n",
              "      <th></th>\n",
              "      <th>number_courses</th>\n",
              "      <th>time_study</th>\n",
              "      <th>Marks</th>\n",
              "      <th>Roll no.</th>\n",
              "    </tr>\n",
              "  </thead>\n",
              "  <tbody>\n",
              "    <tr>\n",
              "      <th>0</th>\n",
              "      <td>3</td>\n",
              "      <td>4.508</td>\n",
              "      <td>19.202</td>\n",
              "      <td>1</td>\n",
              "    </tr>\n",
              "    <tr>\n",
              "      <th>1</th>\n",
              "      <td>4</td>\n",
              "      <td>0.096</td>\n",
              "      <td>7.734</td>\n",
              "      <td>2</td>\n",
              "    </tr>\n",
              "    <tr>\n",
              "      <th>2</th>\n",
              "      <td>4</td>\n",
              "      <td>3.133</td>\n",
              "      <td>13.811</td>\n",
              "      <td>3</td>\n",
              "    </tr>\n",
              "    <tr>\n",
              "      <th>3</th>\n",
              "      <td>6</td>\n",
              "      <td>7.909</td>\n",
              "      <td>53.018</td>\n",
              "      <td>4</td>\n",
              "    </tr>\n",
              "    <tr>\n",
              "      <th>4</th>\n",
              "      <td>8</td>\n",
              "      <td>7.811</td>\n",
              "      <td>55.299</td>\n",
              "      <td>5</td>\n",
              "    </tr>\n",
              "  </tbody>\n",
              "</table>\n",
              "</div>"
            ],
            "text/plain": [
              "   number_courses  time_study   Marks  Roll no.\n",
              "0               3       4.508  19.202         1\n",
              "1               4       0.096   7.734         2\n",
              "2               4       3.133  13.811         3\n",
              "3               6       7.909  53.018         4\n",
              "4               8       7.811  55.299         5"
            ]
          },
          "execution_count": 3,
          "metadata": {},
          "output_type": "execute_result"
        }
      ],
      "source": [
        "df.head()"
      ]
    },
    {
      "attachments": {},
      "cell_type": "markdown",
      "metadata": {},
      "source": [
        "BAR GRAPH"
      ]
    },
    {
      "cell_type": "code",
      "execution_count": 4,
      "metadata": {
        "colab": {
          "base_uri": "https://localhost:8080/",
          "height": 404
        },
        "id": "bDThi93Mrinr",
        "outputId": "031f85f8-0446-44b8-98f2-642afb0b16c9"
      },
      "outputs": [
        {
          "data": {
            "image/png": "[encoded data removed]",
            "text/plain": [
              "<Figure size 1008x432 with 1 Axes>"
            ]
          },
          "metadata": {
            "needs_background": "light"
          },
          "output_type": "display_data"
        }
      ],
      "source": [
        "# Creating a bar chart\n",
        "fig, ax = plt.subplots(figsize=(14,6))\n",
        "ax.bar(df[\"time_study\"], df['Marks'], color=\"turquoise\",)\n",
        "ax.set_xlabel('time_study')\n",
        "ax.set_ylabel('Marks')\n",
        "ax.set_title('Student Grades')\n",
        "plt.show()\n"
      ]
    },
    {
      "attachments": {},
      "cell_type": "markdown",
      "metadata": {},
      "source": [
        "This bar chart helps to understand the relation between time_study feature and Marks feature. We can observe that as the number of hours of study is increasing, marks are also increasing."
      ]
    },
    {
      "cell_type": "code",
      "execution_count": null,
      "metadata": {},
      "outputs": [],
      "source": [
        "PIE CHART"
      ]
    },
    {
      "cell_type": "code",
      "execution_count": null,
      "metadata": {
        "colab": {
          "base_uri": "https://localhost:8080/",
          "height": 373
        },
        "id": "q9nneKL-s_vl",
        "outputId": "fb0be74c-c34f-46a5-d0a6-43044a2e9eb0"
      },
      "outputs": [
        {
          "data": {
            "image/png": "[encoded data removed]",
            "text/plain": [
              "<Figure size 432x432 with 1 Axes>"
            ]
          },
          "metadata": {},
          "output_type": "display_data"
        }
      ],
      "source": [
        "# Creating a pie chart\n",
        "counts = df['number_courses'].value_counts()\n",
        "\n",
        "# Accessing the unique values and their corresponding counts separately\n",
        "number = counts.index.tolist()\n",
        "counts = counts.values.tolist()\n",
        "\n",
        "fig, ax = plt.subplots(figsize=(6,6))\n",
        "ax.pie(counts,autopct='%1.1f%%')\n",
        "ax.set_title('Courses')\n",
        "plt.legend(number)\n",
        "plt.show()\n"
      ]
    },
    {
      "attachments": {},
      "cell_type": "markdown",
      "metadata": {},
      "source": [
        "This pie chart helps to understand the distribution of number of courses among students. We can observe that 22% of students have 3 courses which is the maximum proportion."
      ]
    },
    {
      "attachments": {},
      "cell_type": "markdown",
      "metadata": {
        "id": "MaSVTmm5wa_6"
      },
      "source": [
        "SCATTER PLOT\n",
        "\n",
        "A scatter plot is a type of data visualization that is commonly used to display the relationship between two quantitative variables. In a scatter plot, each point represents a single observation, with the x-axis showing the value of one variable and the y-axis showing the value of the other variable.\n",
        "\n"
      ]
    },
    {
      "cell_type": "code",
      "execution_count": null,
      "metadata": {
        "colab": {
          "base_uri": "https://localhost:8080/",
          "height": 295
        },
        "id": "R3SSfhfzKtMF",
        "outputId": "1f97f99a-ea4e-41b1-871d-54d533bef2ab"
      },
      "outputs": [
        {
          "data": {
            "image/png": "[encoded data removed]",
            "text/plain": [
              "<Figure size 432x288 with 1 Axes>"
            ]
          },
          "metadata": {
            "needs_background": "light"
          },
          "output_type": "display_data"
        }
      ],
      "source": [
        "# Creating a scatter plot\n",
        "fig, ax = plt.subplots()\n",
        "ax.scatter(df[\"time_study\"],df[\"Marks\"],color=\"red\" )\n",
        "ax.set_xlabel('Study Time (hours/day)')\n",
        "ax.set_ylabel('Marks')\n",
        "ax.set_title('Study time vs Marks')\n",
        "plt.show()\n"
      ]
    },
    {
      "attachments": {},
      "cell_type": "markdown",
      "metadata": {},
      "source": [
        "This scatter plot shows the relationship between Marks and Study Time.   "
      ]
    },
    {
      "attachments": {},
      "cell_type": "markdown",
      "metadata": {},
      "source": [
        "BOX PLOT"
      ]
    },
    {
      "cell_type": "code",
      "execution_count": null,
      "metadata": {
        "colab": {
          "base_uri": "https://localhost:8080/",
          "height": 336
        },
        "id": "HiqMMVQFtsWi",
        "outputId": "5024ec6f-9ced-4f91-e7ad-f2cb7edb5bd9"
      },
      "outputs": [
        {
          "name": "stderr",
          "output_type": "stream",
          "text": [
            "/usr/local/lib/python3.8/dist-packages/seaborn/_decorators.py:36: FutureWarning: Pass the following variable as a keyword arg: x. From version 0.12, the only valid positional argument will be `data`, and passing other arguments without an explicit keyword will result in an error or misinterpretation.\n",
            "  warnings.warn(\n"
          ]
        },
        {
          "data": {
            "image/png": "[encoded data removed]",
            "text/plain": [
              "<Figure size 432x288 with 1 Axes>"
            ]
          },
          "metadata": {
            "needs_background": "light"
          },
          "output_type": "display_data"
        }
      ],
      "source": [
        "# Creating a box plot\n",
        "fig, ax = plt.subplots()\n",
        "sns.boxplot(df['time_study'])\n",
        "# ax.set_xticklabels(['Marks'])\n",
        "# ax.set_ylabel('Score')\n",
        "\n",
        "# ax.set_title('Box Plot')\n",
        "plt.show()\n"
      ]
    },
    {
      "attachments": {},
      "cell_type": "markdown",
      "metadata": {},
      "source": [
        "We can observe two outliers in time_study feature with the help of this box plot. Many statistic procedures are affected by the presence of outliers. With the outlier present, the statistical power of ML methods would have less power; hence, unreliable results. Some outliers represent natural variations in the population, and they should be left as is in your dataset. These are called true outliers. Other outliers are problematic and should be removed because they represent measurement errors, data entry or processing errors, or poor sampling.\n"
      ]
    },
    {
      "attachments": {},
      "cell_type": "markdown",
      "metadata": {},
      "source": [
        "HEATMAP"
      ]
    },
    {
      "cell_type": "code",
      "execution_count": null,
      "metadata": {
        "colab": {
          "base_uri": "https://localhost:8080/",
          "height": 314
        },
        "id": "04rIbfQXuc9d",
        "outputId": "60ae0eeb-d1bd-4423-a836-bb1323b91900"
      },
      "outputs": [
        {
          "data": {
            "image/png": "[encoded data removed]",
            "text/plain": [
              "<Figure size 432x288 with 2 Axes>"
            ]
          },
          "metadata": {
            "needs_background": "light"
          },
          "output_type": "display_data"
        }
      ],
      "source": [
        "fig, ax = plt.subplots()\n",
        "heatmap_df = df.pivot(index='number_courses', columns='time_study', values='Marks')\n",
        "\n",
        "# Creating the heatmap using seaborn\n",
        "sns.heatmap(heatmap_df, cmap='YlGnBu')\n",
        "\n",
        "ax.set_xlabel('Study Time (hours/day)')\n",
        "ax.set_ylabel('Number of Courses')\n",
        "ax.set_title('Heatmap')\n",
        "plt.show()\n",
        "\n"
      ]
    },
    {
      "attachments": {},
      "cell_type": "markdown",
      "metadata": {},
      "source": [
        "This helps to study how marks is affected by the number of courses and study time. Heat map represents correlation coefficients to visualize the strength of correlation among variables. It helps find features that are best for Machine Learning model building. The heat map transforms the correlation matrix into color coding."
      ]
    },
    {
      "cell_type": "code",
      "execution_count": null,
      "metadata": {
        "id": "IAIeIXHbuxWz"
      },
      "outputs": [],
      "source": []
    }
  ],
  "metadata": {
    "colab": {
      "provenance": []
    },
    "kernelspec": {
      "display_name": "Python 3",
      "language": "python",
      "name": "python3"
    },
    "language_info": {
      "codemirror_mode": {
        "name": "ipython",
        "version": 3
      },
      "file_extension": ".py",
      "mimetype": "text/x-python",
      "name": "python",
      "nbconvert_exporter": "python",
      "pygments_lexer": "ipython3",
      "version": "3.8.2"
    },
    "vscode": {
      "interpreter": {
        "hash": "174ee4fed433113511d9134ab5df782b3b46c0077418a4b94e6615b3d0724d3e"
      }
    }
  },
  "nbformat": 4,
  "nbformat_minor": 0
}
