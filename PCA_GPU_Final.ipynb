{
  "cells": [
    {
      "cell_type": "code",
      "execution_count": 34,
      "id": "fe90ec9f",
      "metadata": {
        "id": "fe90ec9f"
      },
      "outputs": [],
      "source": [
        "import torch"
      ]
    },
    {
      "cell_type": "code",
      "execution_count": 35,
      "id": "3733ae24",
      "metadata": {
        "colab": {
          "base_uri": "https://localhost:8080/",
          "height": 36
        },
        "id": "3733ae24",
        "outputId": "b7e2e8e3-5855-4160-e488-369825c1c285"
      },
      "outputs": [
        {
          "data": {
            "application/vnd.google.colaboratory.intrinsic+json": {
              "type": "string"
            },
            "text/plain": [
              "'11.8'"
            ]
          },
          "execution_count": 35,
          "metadata": {},
          "output_type": "execute_result"
        }
      ],
      "source": [
        "torch.version.cuda"
      ]
    },
    {
      "cell_type": "code",
      "execution_count": 36,
      "id": "b99a218f",
      "metadata": {
        "id": "b99a218f"
      },
      "outputs": [],
      "source": [
        "device = torch.device('cuda')"
      ]
    },
    {
      "cell_type": "code",
      "execution_count": 37,
      "id": "daa34508",
      "metadata": {
        "id": "daa34508"
      },
      "outputs": [],
      "source": [
        "import torch\n",
        "import tqdm as notebook_tqdm\n",
        "import pandas as pd\n",
        "from sklearn.preprocessing import StandardScaler\n",
        "from torch.linalg import eig"
      ]
    },
    {
      "cell_type": "code",
      "execution_count": 38,
      "id": "51257ea1",
      "metadata": {
        "id": "51257ea1"
      },
      "outputs": [],
      "source": [
        "data = pd.read_csv('banknotes.csv')"
      ]
    },
    {
      "cell_type": "code",
      "execution_count": null,
      "id": "3da01174",
      "metadata": {
        "colab": {
          "base_uri": "https://localhost:8080/",
          "height": 206
        },
        "id": "3da01174",
        "outputId": "7a8dbbd6-529f-44e1-b0ba-9ac26d25c7b9"
      },
      "outputs": [
        {
          "data": {
            "text/html": [
              "\n",
              "  <div id=\"df-b131b990-fba0-4e3c-853e-5c6f3e590d70\">\n",
              "    <div class=\"colab-df-container\">\n",
              "      <div>\n",
              "<style scoped>\n",
              "    .dataframe tbody tr th:only-of-type {\n",
              "        vertical-align: middle;\n",
              "    }\n",
              "\n",
              "    .dataframe tbody tr th {\n",
              "        vertical-align: top;\n",
              "    }\n",
              "\n",
              "    .dataframe thead th {\n",
              "        text-align: right;\n",
              "    }\n",
              "</style>\n",
              "<table border=\"1\" class=\"dataframe\">\n",
              "  <thead>\n",
              "    <tr style=\"text-align: right;\">\n",
              "      <th></th>\n",
              "      <th>conterfeit</th>\n",
              "      <th>Length</th>\n",
              "      <th>Left</th>\n",
              "      <th>Right</th>\n",
              "      <th>Bottom</th>\n",
              "      <th>Top</th>\n",
              "      <th>Diagonal</th>\n",
              "    </tr>\n",
              "  </thead>\n",
              "  <tbody>\n",
              "    <tr>\n",
              "      <th>0</th>\n",
              "      <td>0</td>\n",
              "      <td>214.8</td>\n",
              "      <td>131.0</td>\n",
              "      <td>131.1</td>\n",
              "      <td>9.0</td>\n",
              "      <td>9.7</td>\n",
              "      <td>141.0</td>\n",
              "    </tr>\n",
              "    <tr>\n",
              "      <th>1</th>\n",
              "      <td>0</td>\n",
              "      <td>214.6</td>\n",
              "      <td>129.7</td>\n",
              "      <td>129.7</td>\n",
              "      <td>8.1</td>\n",
              "      <td>9.5</td>\n",
              "      <td>141.7</td>\n",
              "    </tr>\n",
              "    <tr>\n",
              "      <th>2</th>\n",
              "      <td>0</td>\n",
              "      <td>214.8</td>\n",
              "      <td>129.7</td>\n",
              "      <td>129.7</td>\n",
              "      <td>8.7</td>\n",
              "      <td>9.6</td>\n",
              "      <td>142.2</td>\n",
              "    </tr>\n",
              "    <tr>\n",
              "      <th>3</th>\n",
              "      <td>0</td>\n",
              "      <td>214.8</td>\n",
              "      <td>129.7</td>\n",
              "      <td>129.6</td>\n",
              "      <td>7.5</td>\n",
              "      <td>10.4</td>\n",
              "      <td>142.0</td>\n",
              "    </tr>\n",
              "    <tr>\n",
              "      <th>4</th>\n",
              "      <td>0</td>\n",
              "      <td>215.0</td>\n",
              "      <td>129.6</td>\n",
              "      <td>129.7</td>\n",
              "      <td>10.4</td>\n",
              "      <td>7.7</td>\n",
              "      <td>141.8</td>\n",
              "    </tr>\n",
              "  </tbody>\n",
              "</table>\n",
              "</div>\n",
              "      <button class=\"colab-df-convert\" onclick=\"convertToInteractive('df-b131b990-fba0-4e3c-853e-5c6f3e590d70')\"\n",
              "              title=\"Convert this dataframe to an interactive table.\"\n",
              "              style=\"display:none;\">\n",
              "        \n",
              "  <svg xmlns=\"http://www.w3.org/2000/svg\" height=\"24px\"viewBox=\"0 0 24 24\"\n",
              "       width=\"24px\">\n",
              "    <path d=\"M0 0h24v24H0V0z\" fill=\"none\"/>\n",
              "    <path d=\"M18.56 5.44l.94 2.06.94-2.06 2.06-.94-2.06-.94-.94-2.06-.94 2.06-2.06.94zm-11 1L8.5 8.5l.94-2.06 2.06-.94-2.06-.94L8.5 2.5l-.94 2.06-2.06.94zm10 10l.94 2.06.94-2.06 2.06-.94-2.06-.94-.94-2.06-.94 2.06-2.06.94z\"/><path d=\"M17.41 7.96l-1.37-1.37c-.4-.4-.92-.59-1.43-.59-.52 0-1.04.2-1.43.59L10.3 9.45l-7.72 7.72c-.78.78-.78 2.05 0 2.83L4 21.41c.39.39.9.59 1.41.59.51 0 1.02-.2 1.41-.59l7.78-7.78 2.81-2.81c.8-.78.8-2.07 0-2.86zM5.41 20L4 18.59l7.72-7.72 1.47 1.35L5.41 20z\"/>\n",
              "  </svg>\n",
              "      </button>\n",
              "      \n",
              "  <style>\n",
              "    .colab-df-container {\n",
              "      display:flex;\n",
              "      flex-wrap:wrap;\n",
              "      gap: 12px;\n",
              "    }\n",
              "\n",
              "    .colab-df-convert {\n",
              "      background-color: #E8F0FE;\n",
              "      border: none;\n",
              "      border-radius: 50%;\n",
              "      cursor: pointer;\n",
              "      display: none;\n",
              "      fill: #1967D2;\n",
              "      height: 32px;\n",
              "      padding: 0 0 0 0;\n",
              "      width: 32px;\n",
              "    }\n",
              "\n",
              "    .colab-df-convert:hover {\n",
              "      background-color: #E2EBFA;\n",
              "      box-shadow: 0px 1px 2px rgba(60, 64, 67, 0.3), 0px 1px 3px 1px rgba(60, 64, 67, 0.15);\n",
              "      fill: #174EA6;\n",
              "    }\n",
              "\n",
              "    [theme=dark] .colab-df-convert {\n",
              "      background-color: #3B4455;\n",
              "      fill: #D2E3FC;\n",
              "    }\n",
              "\n",
              "    [theme=dark] .colab-df-convert:hover {\n",
              "      background-color: #434B5C;\n",
              "      box-shadow: 0px 1px 3px 1px rgba(0, 0, 0, 0.15);\n",
              "      filter: drop-shadow(0px 1px 2px rgba(0, 0, 0, 0.3));\n",
              "      fill: #FFFFFF;\n",
              "    }\n",
              "  </style>\n",
              "\n",
              "      <script>\n",
              "        const buttonEl =\n",
              "          document.querySelector('#df-b131b990-fba0-4e3c-853e-5c6f3e590d70 button.colab-df-convert');\n",
              "        buttonEl.style.display =\n",
              "          google.colab.kernel.accessAllowed ? 'block' : 'none';\n",
              "\n",
              "        async function convertToInteractive(key) {\n",
              "          const element = document.querySelector('#df-b131b990-fba0-4e3c-853e-5c6f3e590d70');\n",
              "          const dataTable =\n",
              "            await google.colab.kernel.invokeFunction('convertToInteractive',\n",
              "                                                     [key], {});\n",
              "          if (!dataTable) return;\n",
              "\n",
              "          const docLinkHtml = 'Like what you see? Visit the ' +\n",
              "            '<a target=\"_blank\" href=https://colab.research.google.com/notebooks/data_table.ipynb>data table notebook</a>'\n",
              "            + ' to learn more about interactive tables.';\n",
              "          element.innerHTML = '';\n",
              "          dataTable['output_type'] = 'display_data';\n",
              "          await google.colab.output.renderOutput(dataTable, element);\n",
              "          const docLink = document.createElement('div');\n",
              "          docLink.innerHTML = docLinkHtml;\n",
              "          element.appendChild(docLink);\n",
              "        }\n",
              "      </script>\n",
              "    </div>\n",
              "  </div>\n",
              "  "
            ],
            "text/plain": [
              "   conterfeit  Length   Left  Right  Bottom   Top  Diagonal\n",
              "0           0   214.8  131.0  131.1     9.0   9.7     141.0\n",
              "1           0   214.6  129.7  129.7     8.1   9.5     141.7\n",
              "2           0   214.8  129.7  129.7     8.7   9.6     142.2\n",
              "3           0   214.8  129.7  129.6     7.5  10.4     142.0\n",
              "4           0   215.0  129.6  129.7    10.4   7.7     141.8"
            ]
          },
          "execution_count": 7,
          "metadata": {},
          "output_type": "execute_result"
        }
      ],
      "source": [
        "data.head()"
      ]
    },
    {
      "cell_type": "code",
      "execution_count": 39,
      "id": "CO4JXXwMceHX",
      "metadata": {
        "id": "CO4JXXwMceHX"
      },
      "outputs": [],
      "source": [
        "data = data.sample(frac=1).reset_index(drop=True)"
      ]
    },
    {
      "cell_type": "code",
      "execution_count": 40,
      "id": "c74a88f4",
      "metadata": {
        "colab": {
          "base_uri": "https://localhost:8080/"
        },
        "id": "c74a88f4",
        "outputId": "ce8568a9-8b81-468b-aaf8-b7109bb3f901"
      },
      "outputs": [
        {
          "name": "stdout",
          "output_type": "stream",
          "text": [
            "<class 'pandas.core.frame.DataFrame'>\n",
            "RangeIndex: 200 entries, 0 to 199\n",
            "Data columns (total 7 columns):\n",
            " #   Column      Non-Null Count  Dtype  \n",
            "---  ------      --------------  -----  \n",
            " 0   conterfeit  200 non-null    int64  \n",
            " 1   Length      200 non-null    float64\n",
            " 2   Left        200 non-null    float64\n",
            " 3   Right       200 non-null    float64\n",
            " 4   Bottom      200 non-null    float64\n",
            " 5   Top         200 non-null    float64\n",
            " 6   Diagonal    200 non-null    float64\n",
            "dtypes: float64(6), int64(1)\n",
            "memory usage: 11.1 KB\n"
          ]
        }
      ],
      "source": [
        "data.info()"
      ]
    },
    {
      "cell_type": "code",
      "execution_count": 41,
      "id": "fd27714e",
      "metadata": {
        "colab": {
          "base_uri": "https://localhost:8080/"
        },
        "id": "fd27714e",
        "outputId": "7e9903cd-ed9f-482e-9029-4aa69bcf9c11"
      },
      "outputs": [
        {
          "data": {
            "text/plain": [
              "0    0\n",
              "1    1\n",
              "2    1\n",
              "3    0\n",
              "4    0\n",
              "Name: conterfeit, dtype: int64"
            ]
          },
          "execution_count": 41,
          "metadata": {},
          "output_type": "execute_result"
        }
      ],
      "source": [
        "y = data['conterfeit']\n",
        "y.head()"
      ]
    },
    {
      "cell_type": "code",
      "execution_count": 42,
      "id": "4753da73",
      "metadata": {
        "id": "4753da73"
      },
      "outputs": [],
      "source": [
        "X = data.drop('conterfeit',axis=1)\n",
        "sc = StandardScaler()\n",
        "x = sc.fit_transform(X)"
      ]
    },
    {
      "cell_type": "code",
      "execution_count": 43,
      "id": "a192b0d1",
      "metadata": {
        "colab": {
          "base_uri": "https://localhost:8080/",
          "height": 206
        },
        "id": "a192b0d1",
        "outputId": "d5b07e43-b95f-4c6e-974b-949e4a55cb79"
      },
      "outputs": [
        {
          "data": {
            "text/html": [
              "\n",
              "  <div id=\"df-27d77aad-d2eb-43d8-95c0-5585d0e1ab72\">\n",
              "    <div class=\"colab-df-container\">\n",
              "      <div>\n",
              "<style scoped>\n",
              "    .dataframe tbody tr th:only-of-type {\n",
              "        vertical-align: middle;\n",
              "    }\n",
              "\n",
              "    .dataframe tbody tr th {\n",
              "        vertical-align: top;\n",
              "    }\n",
              "\n",
              "    .dataframe thead th {\n",
              "        text-align: right;\n",
              "    }\n",
              "</style>\n",
              "<table border=\"1\" class=\"dataframe\">\n",
              "  <thead>\n",
              "    <tr style=\"text-align: right;\">\n",
              "      <th></th>\n",
              "      <th>Length</th>\n",
              "      <th>Left</th>\n",
              "      <th>Right</th>\n",
              "      <th>Bottom</th>\n",
              "      <th>Top</th>\n",
              "      <th>Diagonal</th>\n",
              "    </tr>\n",
              "  </thead>\n",
              "  <tbody>\n",
              "    <tr>\n",
              "      <th>0</th>\n",
              "      <td>214.6</td>\n",
              "      <td>129.8</td>\n",
              "      <td>129.4</td>\n",
              "      <td>7.4</td>\n",
              "      <td>10.6</td>\n",
              "      <td>141.0</td>\n",
              "    </tr>\n",
              "    <tr>\n",
              "      <th>1</th>\n",
              "      <td>214.6</td>\n",
              "      <td>130.2</td>\n",
              "      <td>130.4</td>\n",
              "      <td>10.5</td>\n",
              "      <td>11.8</td>\n",
              "      <td>139.7</td>\n",
              "    </tr>\n",
              "    <tr>\n",
              "      <th>2</th>\n",
              "      <td>214.8</td>\n",
              "      <td>129.9</td>\n",
              "      <td>129.8</td>\n",
              "      <td>9.6</td>\n",
              "      <td>12.0</td>\n",
              "      <td>139.6</td>\n",
              "    </tr>\n",
              "    <tr>\n",
              "      <th>3</th>\n",
              "      <td>215.2</td>\n",
              "      <td>129.9</td>\n",
              "      <td>129.7</td>\n",
              "      <td>7.2</td>\n",
              "      <td>10.6</td>\n",
              "      <td>142.1</td>\n",
              "    </tr>\n",
              "    <tr>\n",
              "      <th>4</th>\n",
              "      <td>215.1</td>\n",
              "      <td>130.0</td>\n",
              "      <td>130.0</td>\n",
              "      <td>7.4</td>\n",
              "      <td>10.5</td>\n",
              "      <td>141.8</td>\n",
              "    </tr>\n",
              "  </tbody>\n",
              "</table>\n",
              "</div>\n",
              "      <button class=\"colab-df-convert\" onclick=\"convertToInteractive('df-27d77aad-d2eb-43d8-95c0-5585d0e1ab72')\"\n",
              "              title=\"Convert this dataframe to an interactive table.\"\n",
              "              style=\"display:none;\">\n",
              "        \n",
              "  <svg xmlns=\"http://www.w3.org/2000/svg\" height=\"24px\"viewBox=\"0 0 24 24\"\n",
              "       width=\"24px\">\n",
              "    <path d=\"M0 0h24v24H0V0z\" fill=\"none\"/>\n",
              "    <path d=\"M18.56 5.44l.94 2.06.94-2.06 2.06-.94-2.06-.94-.94-2.06-.94 2.06-2.06.94zm-11 1L8.5 8.5l.94-2.06 2.06-.94-2.06-.94L8.5 2.5l-.94 2.06-2.06.94zm10 10l.94 2.06.94-2.06 2.06-.94-2.06-.94-.94-2.06-.94 2.06-2.06.94z\"/><path d=\"M17.41 7.96l-1.37-1.37c-.4-.4-.92-.59-1.43-.59-.52 0-1.04.2-1.43.59L10.3 9.45l-7.72 7.72c-.78.78-.78 2.05 0 2.83L4 21.41c.39.39.9.59 1.41.59.51 0 1.02-.2 1.41-.59l7.78-7.78 2.81-2.81c.8-.78.8-2.07 0-2.86zM5.41 20L4 18.59l7.72-7.72 1.47 1.35L5.41 20z\"/>\n",
              "  </svg>\n",
              "      </button>\n",
              "      \n",
              "  <style>\n",
              "    .colab-df-container {\n",
              "      display:flex;\n",
              "      flex-wrap:wrap;\n",
              "      gap: 12px;\n",
              "    }\n",
              "\n",
              "    .colab-df-convert {\n",
              "      background-color: #E8F0FE;\n",
              "      border: none;\n",
              "      border-radius: 50%;\n",
              "      cursor: pointer;\n",
              "      display: none;\n",
              "      fill: #1967D2;\n",
              "      height: 32px;\n",
              "      padding: 0 0 0 0;\n",
              "      width: 32px;\n",
              "    }\n",
              "\n",
              "    .colab-df-convert:hover {\n",
              "      background-color: #E2EBFA;\n",
              "      box-shadow: 0px 1px 2px rgba(60, 64, 67, 0.3), 0px 1px 3px 1px rgba(60, 64, 67, 0.15);\n",
              "      fill: #174EA6;\n",
              "    }\n",
              "\n",
              "    [theme=dark] .colab-df-convert {\n",
              "      background-color: #3B4455;\n",
              "      fill: #D2E3FC;\n",
              "    }\n",
              "\n",
              "    [theme=dark] .colab-df-convert:hover {\n",
              "      background-color: #434B5C;\n",
              "      box-shadow: 0px 1px 3px 1px rgba(0, 0, 0, 0.15);\n",
              "      filter: drop-shadow(0px 1px 2px rgba(0, 0, 0, 0.3));\n",
              "      fill: #FFFFFF;\n",
              "    }\n",
              "  </style>\n",
              "\n",
              "      <script>\n",
              "        const buttonEl =\n",
              "          document.querySelector('#df-27d77aad-d2eb-43d8-95c0-5585d0e1ab72 button.colab-df-convert');\n",
              "        buttonEl.style.display =\n",
              "          google.colab.kernel.accessAllowed ? 'block' : 'none';\n",
              "\n",
              "        async function convertToInteractive(key) {\n",
              "          const element = document.querySelector('#df-27d77aad-d2eb-43d8-95c0-5585d0e1ab72');\n",
              "          const dataTable =\n",
              "            await google.colab.kernel.invokeFunction('convertToInteractive',\n",
              "                                                     [key], {});\n",
              "          if (!dataTable) return;\n",
              "\n",
              "          const docLinkHtml = 'Like what you see? Visit the ' +\n",
              "            '<a target=\"_blank\" href=https://colab.research.google.com/notebooks/data_table.ipynb>data table notebook</a>'\n",
              "            + ' to learn more about interactive tables.';\n",
              "          element.innerHTML = '';\n",
              "          dataTable['output_type'] = 'display_data';\n",
              "          await google.colab.output.renderOutput(dataTable, element);\n",
              "          const docLink = document.createElement('div');\n",
              "          docLink.innerHTML = docLinkHtml;\n",
              "          element.appendChild(docLink);\n",
              "        }\n",
              "      </script>\n",
              "    </div>\n",
              "  </div>\n",
              "  "
            ],
            "text/plain": [
              "   Length   Left  Right  Bottom   Top  Diagonal\n",
              "0   214.6  129.8  129.4     7.4  10.6     141.0\n",
              "1   214.6  130.2  130.4    10.5  11.8     139.7\n",
              "2   214.8  129.9  129.8     9.6  12.0     139.6\n",
              "3   215.2  129.9  129.7     7.2  10.6     142.1\n",
              "4   215.1  130.0  130.0     7.4  10.5     141.8"
            ]
          },
          "execution_count": 43,
          "metadata": {},
          "output_type": "execute_result"
        }
      ],
      "source": [
        "X.head()"
      ]
    },
    {
      "cell_type": "code",
      "execution_count": 44,
      "id": "3d449255",
      "metadata": {
        "colab": {
          "base_uri": "https://localhost:8080/"
        },
        "id": "3d449255",
        "outputId": "c39b4218-3089-4356-c919-4a966ba80126"
      },
      "outputs": [
        {
          "data": {
            "text/plain": [
              "array([[-0.78804829, -0.89275337, -1.3806861 , -1.40008195, -0.06305117,\n",
              "         0.44937213],\n",
              "       [-0.78804829,  0.21798177,  1.10033115,  0.75122117,  1.4351944 ,\n",
              "        -0.68167099],\n",
              "       [-0.25558323, -0.61506959, -0.3882792 ,  0.1266493 ,  1.68490199,\n",
              "        -0.76867431],\n",
              "       ...,\n",
              "       [-0.52181576, -0.3373858 , -1.3806861 ,  0.54303055,  0.43636402,\n",
              "        -1.11668758],\n",
              "       [ 1.34181195,  1.05103313,  1.5965346 , -0.4285257 ,  0.43636402,\n",
              "        -1.63870748],\n",
              "       [-0.25558323, -0.05970201, -0.88448265, -0.4285257 , -0.93702775,\n",
              "         0.36236882]])"
            ]
          },
          "execution_count": 44,
          "metadata": {},
          "output_type": "execute_result"
        }
      ],
      "source": [
        "x"
      ]
    },
    {
      "cell_type": "code",
      "execution_count": 45,
      "id": "72c80042",
      "metadata": {
        "id": "72c80042"
      },
      "outputs": [],
      "source": [
        "PyData = torch.tensor(x,dtype = torch.float32)\n",
        "PyY = torch.tensor(y)"
      ]
    },
    {
      "cell_type": "code",
      "execution_count": 46,
      "id": "251ba571",
      "metadata": {
        "colab": {
          "base_uri": "https://localhost:8080/"
        },
        "id": "251ba571",
        "outputId": "3ebc07eb-55cc-43e4-cf42-27d1249736a6"
      },
      "outputs": [
        {
          "data": {
            "text/plain": [
              "(device(type='cpu'), device(type='cpu'))"
            ]
          },
          "execution_count": 46,
          "metadata": {},
          "output_type": "execute_result"
        }
      ],
      "source": [
        "PyData.device, PyY.device"
      ]
    },
    {
      "cell_type": "code",
      "execution_count": 47,
      "id": "e081b20a",
      "metadata": {
        "id": "e081b20a"
      },
      "outputs": [],
      "source": [
        "PyData = PyData.to(device)\n",
        "PyY = PyY.to(device)"
      ]
    },
    {
      "cell_type": "code",
      "execution_count": 48,
      "id": "f35acd1a",
      "metadata": {
        "colab": {
          "base_uri": "https://localhost:8080/"
        },
        "id": "f35acd1a",
        "outputId": "e39c447a-ea21-4f8e-ffc0-a765ef6d595f"
      },
      "outputs": [
        {
          "data": {
            "text/plain": [
              "(device(type='cuda', index=0), device(type='cuda', index=0))"
            ]
          },
          "execution_count": 48,
          "metadata": {},
          "output_type": "execute_result"
        }
      ],
      "source": [
        "PyData.device, PyY.device"
      ]
    },
    {
      "cell_type": "code",
      "execution_count": null,
      "id": "b251e85b",
      "metadata": {
        "id": "b251e85b"
      },
      "outputs": [],
      "source": [
        "# PyData_mean = torch.mean(PyData, dim=0)\n",
        "# PyData_centered = PyData - PyData_mean"
      ]
    },
    {
      "cell_type": "code",
      "execution_count": 49,
      "id": "3e7baccd",
      "metadata": {
        "id": "3e7baccd"
      },
      "outputs": [],
      "source": [
        "pca = torch.pca_lowrank(PyData)"
      ]
    },
    {
      "cell_type": "code",
      "execution_count": 50,
      "id": "6c9b0b41",
      "metadata": {
        "colab": {
          "base_uri": "https://localhost:8080/"
        },
        "id": "6c9b0b41",
        "outputId": "837b77ce-8066-4dc4-9618-9638fc71decf"
      },
      "outputs": [
        {
          "data": {
            "text/plain": [
              "(tensor([[-0.0782, -0.0497,  0.0732, -0.0268,  0.0663, -0.0243],\n",
              "         [ 0.0747, -0.0506,  0.0453, -0.0299, -0.1003,  0.0363],\n",
              "         [ 0.0237, -0.0572,  0.1098,  0.0845, -0.0377,  0.0389],\n",
              "         ...,\n",
              "         [ 0.0044, -0.0863,  0.0266,  0.1194,  0.1132,  0.0205],\n",
              "         [ 0.0846,  0.0927,  0.0378,  0.0197,  0.0227, -0.2175],\n",
              "         [-0.0476, -0.0096, -0.0317, -0.0170,  0.0948, -0.0102]],\n",
              "        device='cuda:0'),\n",
              " tensor([24.2716, 15.9880, 13.1836,  9.4844,  7.3304,  6.1462], device='cuda:0'),\n",
              " tensor([[-0.0070,  0.8155,  0.0177,  0.5746, -0.0588, -0.0311],\n",
              "         [ 0.4678,  0.3420, -0.1034, -0.3949,  0.6395,  0.2977],\n",
              "         [ 0.4867,  0.2525, -0.1235, -0.4303, -0.6141, -0.3492],\n",
              "         [ 0.4068, -0.2662, -0.5835,  0.4037, -0.2155,  0.4624],\n",
              "         [ 0.3679, -0.0915,  0.7876,  0.1102, -0.2198,  0.4190],\n",
              "         [-0.4935,  0.2739, -0.1139, -0.3919, -0.3402,  0.6318]],\n",
              "        device='cuda:0'))"
            ]
          },
          "execution_count": 50,
          "metadata": {},
          "output_type": "execute_result"
        }
      ],
      "source": [
        "pca"
      ]
    },
    {
      "cell_type": "code",
      "execution_count": 51,
      "id": "b0c15bb5",
      "metadata": {
        "id": "b0c15bb5"
      },
      "outputs": [],
      "source": [
        "pca_x = pca[0][:,:5]"
      ]
    },
    {
      "cell_type": "code",
      "execution_count": 53,
      "id": "cwTFJfstbz1V",
      "metadata": {
        "id": "cwTFJfstbz1V"
      },
      "outputs": [],
      "source": [
        "classes = ['Not Counterfiet','Counterfiet']"
      ]
    },
    {
      "cell_type": "markdown",
      "id": "x_xpxw-Vp_Xx",
      "metadata": {
        "id": "x_xpxw-Vp_Xx"
      },
      "source": [
        "# Simple Classifier"
      ]
    },
    {
      "cell_type": "code",
      "execution_count": 55,
      "id": "yTbPMRDPraay",
      "metadata": {
        "id": "yTbPMRDPraay"
      },
      "outputs": [],
      "source": [
        "from sklearn.metrics import confusion_matrix\n",
        "import seaborn as sn\n",
        "import pandas as pd\n",
        "import numpy as np\n",
        "import matplotlib.pyplot as plt"
      ]
    },
    {
      "cell_type": "code",
      "execution_count": 56,
      "id": "YSumqZYZqOYZ",
      "metadata": {
        "id": "YSumqZYZqOYZ"
      },
      "outputs": [],
      "source": [
        "from sklearn.model_selection import train_test_split\n",
        "X_train, X_test, y_train, y_test = train_test_split(pca_x,y,test_size=0.20)"
      ]
    },
    {
      "cell_type": "code",
      "execution_count": 57,
      "id": "1qeWpIkzB_B5",
      "metadata": {
        "colab": {
          "base_uri": "https://localhost:8080/"
        },
        "id": "1qeWpIkzB_B5",
        "outputId": "c7d8a52c-8e1d-45a0-d31f-b6559bf0c2e8"
      },
      "outputs": [
        {
          "data": {
            "text/plain": [
              "tensor([[-1.1172e-01, -7.2223e-02,  5.0533e-02,  2.4095e-02,  2.8193e-02],\n",
              "        [-7.1243e-02,  2.8740e-02,  1.3842e-01,  6.5650e-02, -9.0421e-02],\n",
              "        [-1.1457e-01, -7.4138e-03,  1.4811e-02,  6.7514e-02,  1.0434e-03],\n",
              "        [-2.4306e-02,  4.3473e-02,  9.2758e-02, -1.0180e-01,  3.4439e-02],\n",
              "        [ 6.0416e-02,  4.5780e-02, -1.5478e-02, -6.3388e-02, -8.0279e-02],\n",
              "        [ 5.3429e-02, -6.6042e-02, -2.1743e-01,  2.4810e-02,  4.1870e-02],\n",
              "        [-8.3975e-02, -1.9670e-02,  7.4506e-02,  3.1122e-02, -1.6699e-01],\n",
              "        [-8.0571e-03,  7.9594e-02,  5.8572e-02, -3.3290e-02,  1.2252e-01],\n",
              "        [-9.6631e-02,  6.4695e-02,  5.8947e-03,  4.4630e-02,  4.7468e-02],\n",
              "        [ 5.4053e-02,  6.2458e-02,  1.0359e-01, -5.2259e-03,  3.8504e-02],\n",
              "        [-8.0678e-02, -8.0708e-02,  3.0029e-02, -5.2600e-02,  1.6478e-02],\n",
              "        [ 6.3344e-02, -1.1161e-01, -3.7397e-02,  8.3923e-02,  3.2442e-02],\n",
              "        [-1.0530e-01, -1.0389e-01,  1.5168e-02, -4.8511e-02, -3.5650e-02],\n",
              "        [ 4.6784e-02,  8.1437e-03,  4.0296e-02,  8.5187e-02,  3.2448e-02],\n",
              "        [ 5.3205e-02,  8.3683e-03, -5.9652e-02, -1.1360e-01,  1.6780e-03],\n",
              "        [ 7.6553e-02,  2.2017e-02, -7.0995e-02,  3.3453e-03, -2.1446e-02],\n",
              "        [-6.3350e-02,  1.1141e-01, -7.3480e-02,  7.2762e-02, -5.4464e-02],\n",
              "        [ 6.3897e-02, -8.0487e-02,  1.5831e-02,  5.0186e-03,  1.8272e-02],\n",
              "        [ 4.1900e-02, -7.8134e-02, -6.1943e-02,  4.5982e-02, -8.8119e-03],\n",
              "        [-5.6260e-02, -9.4494e-03, -3.4748e-02, -1.3032e-01, -6.9593e-02],\n",
              "        [ 6.9104e-02, -4.4796e-02, -9.5388e-03,  1.3841e-02,  3.6018e-03],\n",
              "        [-9.3679e-02,  4.6412e-02,  6.3587e-02,  8.1172e-02,  8.6423e-03],\n",
              "        [ 5.2345e-02, -1.2907e-01, -5.7306e-03, -3.5548e-02, -7.8331e-02],\n",
              "        [ 7.2717e-02, -2.8218e-02,  7.4163e-02,  1.4662e-02, -6.1217e-02],\n",
              "        [ 1.1044e-01,  1.3786e-01,  3.8815e-02, -9.3468e-02, -1.6180e-01],\n",
              "        [-2.6177e-02,  2.4145e-02, -5.3831e-02, -4.2333e-02,  1.4424e-01],\n",
              "        [-5.4093e-02,  6.6205e-02,  4.3216e-02, -6.7049e-02, -4.9191e-02],\n",
              "        [ 3.6923e-02, -4.7614e-02, -6.6367e-02,  7.0242e-02, -1.1336e-02],\n",
              "        [-7.1800e-02,  4.0478e-02,  2.0884e-02,  5.2030e-02,  3.5690e-02],\n",
              "        [-7.7644e-02, -5.1618e-02,  4.9117e-02, -1.2042e-01,  2.2630e-02],\n",
              "        [ 8.6939e-02,  2.5032e-02,  8.7132e-02, -1.1011e-01,  5.7073e-02],\n",
              "        [ 5.8971e-02, -4.2360e-02, -1.0680e-01,  1.6608e-02,  2.0043e-02],\n",
              "        [ 4.6927e-02, -1.0817e-01, -4.6800e-02,  2.0052e-02,  7.9060e-03],\n",
              "        [ 8.9712e-02,  5.1322e-02, -8.5520e-03, -1.5787e-02,  3.2579e-02],\n",
              "        [ 5.7949e-02, -1.0157e-01,  8.7168e-02,  3.1651e-03,  2.8715e-02],\n",
              "        [ 9.8420e-02, -1.7121e-02,  7.7907e-02, -4.0257e-03,  7.9629e-03],\n",
              "        [-5.1448e-02,  4.4591e-02,  1.1378e-02, -9.4292e-03, -3.0308e-04],\n",
              "        [-2.9595e-02,  5.1423e-02,  6.9054e-02, -2.7356e-02, -1.2917e-02],\n",
              "        [-1.5895e-02,  7.6677e-02, -1.1935e-01, -8.2721e-02, -5.4419e-02],\n",
              "        [-1.2620e-01, -1.6478e-02, -7.6085e-02, -4.3346e-03,  5.9766e-02],\n",
              "        [ 2.8263e-02,  6.5459e-02,  2.0214e-01,  1.8271e-01,  1.0032e-01],\n",
              "        [-8.0185e-02,  6.8161e-02,  6.4069e-02, -2.0832e-02, -2.4974e-02],\n",
              "        [-1.6014e-02, -1.2244e-01,  2.8159e-02,  1.5153e-01,  5.5315e-02],\n",
              "        [-4.2811e-02,  2.5736e-02,  2.0359e-02, -1.2987e-02, -2.1598e-02],\n",
              "        [-2.0237e-02,  1.1851e-01,  6.0479e-02, -4.5394e-02, -5.9700e-02],\n",
              "        [ 8.3063e-02, -2.4532e-02, -7.3122e-02,  6.8415e-02,  2.4169e-02],\n",
              "        [ 9.1070e-02,  3.1995e-02,  6.1323e-02,  1.3653e-02, -1.3176e-01],\n",
              "        [-5.4747e-02,  9.5146e-02,  1.0600e-03,  1.7055e-01,  5.3953e-02],\n",
              "        [ 5.0896e-02, -1.5238e-02,  8.3420e-02,  8.8349e-02,  1.3612e-02],\n",
              "        [-5.4568e-02,  9.0067e-02, -4.3841e-02,  2.7859e-02, -1.1146e-02],\n",
              "        [ 2.5615e-02, -7.1984e-02, -4.6754e-02,  1.3140e-01,  3.9197e-02],\n",
              "        [ 9.1463e-02, -1.9901e-02, -1.5567e-01,  4.0416e-03, -5.4972e-02],\n",
              "        [-4.9167e-02,  7.0682e-02,  4.5601e-02, -2.2300e-02, -3.2213e-03],\n",
              "        [-5.7063e-02,  3.1891e-02,  7.9708e-02,  8.4144e-03, -8.4053e-02],\n",
              "        [ 4.3810e-03, -8.6307e-02,  2.6555e-02,  1.1940e-01,  1.1319e-01],\n",
              "        [ 4.7679e-04,  1.1083e-01,  2.4778e-02, -5.9489e-02,  7.2366e-02],\n",
              "        [-4.5137e-02,  1.3293e-01, -6.4830e-02, -2.4334e-02, -5.8678e-02],\n",
              "        [-1.0719e-01, -7.8666e-02,  1.6112e-02, -1.6280e-02, -5.3132e-02],\n",
              "        [ 8.4630e-02,  9.2693e-02,  3.7795e-02,  1.9650e-02,  2.2732e-02],\n",
              "        [-6.5301e-02, -4.2131e-02,  2.7595e-02, -5.3466e-02, -4.4069e-02],\n",
              "        [ 2.3723e-02, -5.7244e-02,  1.0980e-01,  8.4478e-02, -3.7666e-02],\n",
              "        [-1.3918e-01, -8.6977e-02,  6.1435e-03, -8.7137e-03, -1.8551e-01],\n",
              "        [ 1.2337e-01,  1.1241e-04, -3.8522e-02, -9.3867e-02, -4.4184e-02],\n",
              "        [ 5.2185e-02, -4.9801e-02, -1.0928e-02,  2.5064e-02, -2.1286e-03],\n",
              "        [-1.0971e-01, -2.0948e-02, -1.0434e-01,  5.2425e-02,  4.3345e-03],\n",
              "        [-6.8870e-03,  1.7459e-01,  1.7512e-03,  7.5877e-02,  1.2431e-02],\n",
              "        [ 9.5471e-02,  5.7925e-02,  5.3006e-02,  6.2823e-02,  1.1020e-01],\n",
              "        [ 9.5699e-02,  1.3241e-02,  4.0439e-02, -2.1901e-02,  1.3863e-01],\n",
              "        [ 5.0021e-02, -9.4077e-02, -1.0468e-01,  3.5561e-02, -2.4429e-02],\n",
              "        [ 5.1554e-02, -7.6126e-02,  6.5453e-02, -6.8035e-02, -8.3478e-02],\n",
              "        [ 8.1628e-02, -6.5885e-02,  1.2987e-01, -4.5671e-02,  2.5427e-02],\n",
              "        [ 1.2233e-01,  1.1087e-01, -1.0858e-01, -6.8072e-02, -1.1312e-01],\n",
              "        [ 4.1245e-02,  5.6079e-03, -3.5242e-02,  3.6915e-02, -3.6232e-02],\n",
              "        [-7.4713e-02,  5.1232e-02, -6.0294e-02,  2.5488e-02,  5.8033e-03],\n",
              "        [-4.9769e-02, -1.7106e-01,  7.5346e-02, -1.2673e-01,  2.7511e-02],\n",
              "        [-4.5333e-02,  1.1043e-02, -3.5149e-02, -1.1884e-01,  1.8791e-02],\n",
              "        [ 7.4006e-02, -3.9291e-02, -5.8964e-02, -4.7519e-02, -3.4796e-02],\n",
              "        [ 4.9495e-02, -2.0784e-02,  3.3184e-02,  4.1783e-02, -1.0927e-01],\n",
              "        [-1.1627e-01, -7.4094e-02, -6.8217e-02, -5.6421e-02,  7.3987e-02],\n",
              "        [ 6.2500e-02, -9.1437e-03, -1.3698e-02, -2.7210e-02, -6.8321e-02],\n",
              "        [-7.3013e-02, -1.5629e-04,  4.4174e-02, -2.3470e-03,  2.7515e-02],\n",
              "        [-4.4642e-02,  3.6396e-02, -2.4477e-02,  1.2107e-02, -1.8955e-02],\n",
              "        [ 4.5267e-02, -4.3841e-02,  9.4555e-02,  4.5195e-02, -1.0898e-01],\n",
              "        [-7.1937e-02, -2.5500e-02,  7.6662e-02, -4.4853e-02, -6.8031e-02],\n",
              "        [ 4.2001e-02,  1.3596e-02, -2.3453e-02,  7.2635e-02,  3.1756e-02],\n",
              "        [ 2.6428e-02, -7.9577e-02,  6.0288e-02,  1.2886e-01, -1.3710e-01],\n",
              "        [ 2.0307e-02, -1.1027e-01, -9.6439e-02,  1.2541e-01,  3.5841e-02],\n",
              "        [-7.1269e-02,  9.0529e-03,  8.2696e-02, -7.4449e-02, -2.5669e-02],\n",
              "        [-1.1297e-01, -6.4456e-02,  3.5185e-02,  1.0328e-01,  2.6139e-02],\n",
              "        [-9.3703e-02, -3.3700e-02, -4.0402e-02, -6.9483e-02, -2.1631e-02],\n",
              "        [-1.0349e-01,  2.8500e-02, -7.4791e-02,  8.1316e-02, -2.8971e-03],\n",
              "        [ 8.5780e-02,  8.5366e-03, -1.0305e-01, -8.8855e-03,  6.2410e-03],\n",
              "        [ 8.5601e-02, -3.1225e-02,  2.4228e-02, -6.7843e-02,  1.1626e-02],\n",
              "        [ 6.6013e-02, -9.0082e-03, -3.3151e-02, -1.7460e-02,  1.7282e-02],\n",
              "        [-4.8439e-02,  1.1543e-01, -9.0473e-02, -7.6441e-02,  8.8117e-03],\n",
              "        [ 7.3104e-02, -2.6115e-03, -8.2171e-02,  7.1364e-03, -8.4842e-02],\n",
              "        [-5.3674e-02,  6.3069e-03,  1.3960e-02,  7.7091e-02, -2.8054e-02],\n",
              "        [ 4.4471e-02, -1.0065e-01, -7.4011e-02, -4.0723e-02,  3.9716e-02],\n",
              "        [ 8.1085e-02,  1.5886e-02,  1.9516e-02,  1.6122e-02,  8.1345e-02],\n",
              "        [-1.0434e-01,  2.3334e-02,  5.1177e-02,  3.0266e-02, -1.0945e-01],\n",
              "        [ 3.5548e-02,  9.1276e-02,  8.3110e-02,  7.8485e-02,  1.0160e-01],\n",
              "        [ 6.9846e-02, -2.9220e-02, -9.3725e-02, -1.0332e-02,  7.4905e-02],\n",
              "        [-1.0767e-01,  5.9288e-03, -2.7024e-03,  8.3058e-02,  1.1584e-02],\n",
              "        [ 9.0779e-02, -3.9798e-02,  1.5319e-01, -4.4220e-02,  1.6931e-01],\n",
              "        [-7.0851e-02,  3.0981e-02,  3.2074e-02, -2.7318e-02, -2.9241e-02],\n",
              "        [-6.5202e-02,  4.2902e-02,  6.5525e-02, -8.5054e-03, -2.8416e-02],\n",
              "        [ 3.7723e-02, -8.3935e-02,  2.5606e-03,  4.5380e-02, -1.2142e-01],\n",
              "        [-8.4739e-02,  2.5746e-02, -3.2497e-02,  2.6999e-02, -1.0279e-01],\n",
              "        [-1.0612e-01, -7.8294e-02,  8.5399e-02, -1.3538e-02, -7.3885e-03],\n",
              "        [-5.0969e-02,  1.7090e-02,  5.1205e-02,  1.0253e-02,  7.4372e-02],\n",
              "        [-9.7205e-02, -3.8648e-02,  3.2335e-02, -5.2225e-02,  8.0732e-02],\n",
              "        [-8.0697e-02,  5.9439e-02,  5.3867e-02,  1.0196e-01,  1.6788e-02],\n",
              "        [-1.0168e-01, -1.2600e-01,  7.4146e-02, -9.0903e-02,  1.3223e-02],\n",
              "        [ 8.3164e-02,  2.6318e-02, -1.3318e-01,  4.9282e-02,  3.3903e-02],\n",
              "        [ 8.5340e-02, -8.8514e-02, -1.2950e-01, -1.1600e-01,  3.8457e-02],\n",
              "        [ 6.7728e-02, -4.9491e-02, -5.9076e-02,  2.2806e-02, -7.4504e-02],\n",
              "        [ 6.4149e-02, -6.3918e-02,  8.3984e-02, -3.5374e-02,  4.2175e-02],\n",
              "        [ 8.0583e-02,  1.5019e-02,  8.6257e-02,  1.2959e-02, -3.4599e-02],\n",
              "        [ 1.0609e-02,  1.1452e-01,  1.0239e-01, -8.2625e-02, -7.4050e-02],\n",
              "        [-4.9203e-02,  1.6308e-02, -2.5794e-02, -6.7259e-03, -1.6910e-01],\n",
              "        [ 4.6823e-02, -1.8820e-03, -7.6984e-02,  9.8739e-02, -1.1244e-01],\n",
              "        [-8.6500e-02, -4.5636e-02, -1.5596e-01, -8.3902e-02,  9.4804e-04],\n",
              "        [ 6.9931e-03, -1.1491e-01, -9.1297e-02,  8.2582e-02, -5.2003e-03],\n",
              "        [ 3.3219e-02,  1.3334e-02,  9.5241e-02, -3.1917e-02,  1.1327e-04],\n",
              "        [-1.2689e-02,  9.7745e-02,  4.5470e-02, -6.4894e-02,  2.2032e-01],\n",
              "        [ 2.6597e-02, -1.2459e-01,  4.9973e-02,  3.0400e-03, -4.1290e-02],\n",
              "        [-3.3456e-02,  6.6431e-02,  5.4494e-02, -1.4128e-02, -7.5638e-03],\n",
              "        [-5.8776e-02, -4.9901e-02,  5.9644e-02, -7.1093e-02,  6.0220e-02],\n",
              "        [ 1.3802e-02,  8.3621e-02,  2.4776e-03, -4.1539e-02,  1.0209e-01],\n",
              "        [-2.0140e-02, -3.0230e-02,  6.3207e-02, -1.2541e-01,  1.0442e-03],\n",
              "        [ 1.1396e-01, -1.1738e-01,  7.6785e-02, -2.0110e-01,  1.3961e-01],\n",
              "        [-4.7178e-04,  1.0001e-01, -8.8049e-02, -2.8579e-02,  1.0727e-01],\n",
              "        [-9.3830e-02, -6.7348e-03, -5.4417e-02, -3.6027e-02, -6.2073e-02],\n",
              "        [ 5.2308e-02, -4.9025e-02, -4.2204e-03,  2.2920e-02, -9.9104e-03],\n",
              "        [-6.2269e-02,  2.4932e-02, -1.1509e-02,  4.0274e-02,  2.4689e-03],\n",
              "        [ 4.7461e-02,  5.7861e-02,  1.0807e-01,  5.6129e-02, -3.5646e-02],\n",
              "        [-1.0376e-01,  7.6744e-02, -1.8480e-02,  9.7949e-02, -8.4927e-02],\n",
              "        [ 8.6990e-02,  1.0537e-01,  4.6912e-02,  4.9047e-02,  1.6362e-02],\n",
              "        [-8.5839e-02,  2.8651e-02, -1.0977e-01, -1.5952e-02,  1.0565e-02],\n",
              "        [-1.1330e-01,  1.5424e-02, -3.8549e-02,  1.1712e-01,  5.6339e-02],\n",
              "        [-8.4948e-02,  5.3158e-03, -3.7021e-03,  4.3836e-02,  8.8683e-02],\n",
              "        [-7.8218e-02, -4.9718e-02,  7.3198e-02, -2.6826e-02,  6.6297e-02],\n",
              "        [ 3.9633e-02,  2.6642e-02,  2.2219e-02,  3.2601e-02, -6.6784e-02],\n",
              "        [-6.0993e-03,  1.3973e-01, -5.6550e-03,  1.1492e-02,  3.5635e-02],\n",
              "        [ 7.0428e-02, -7.6015e-03, -5.5835e-02,  7.7437e-02,  4.8981e-02],\n",
              "        [-1.1161e-01, -7.0980e-02,  9.0185e-02, -2.6943e-02,  3.3626e-02],\n",
              "        [ 6.6637e-02, -9.2431e-03, -4.2072e-02,  3.4138e-02,  1.6503e-01],\n",
              "        [ 7.4693e-02, -5.0560e-02,  4.5302e-02, -2.9917e-02, -1.0033e-01],\n",
              "        [-9.2557e-02, -3.3344e-02,  4.8984e-03, -6.1089e-02,  7.0491e-02],\n",
              "        [ 9.2407e-02,  8.4732e-02, -1.6749e-02, -5.7643e-02, -9.9102e-02],\n",
              "        [ 6.7483e-02, -5.9239e-02, -1.1546e-01, -3.9447e-02,  5.3475e-02],\n",
              "        [ 6.0836e-02, -5.5252e-02, -3.8546e-02,  8.6056e-02, -6.0749e-02],\n",
              "        [ 8.1443e-02, -1.9707e-02, -9.2832e-02,  9.2304e-03,  2.3125e-02],\n",
              "        [ 1.3090e-02,  8.1669e-02, -5.6425e-02, -4.5477e-02,  9.6341e-03],\n",
              "        [ 6.5294e-02, -5.9788e-02,  1.6553e-01, -4.9043e-02,  1.1785e-01],\n",
              "        [-9.8588e-02, -3.6748e-02, -5.9608e-02,  4.4526e-02,  4.4911e-02],\n",
              "        [ 8.2685e-02, -1.6473e-02,  7.9253e-02, -1.3087e-02, -7.9417e-02],\n",
              "        [ 6.7341e-02,  8.3651e-02,  4.2649e-02,  1.4628e-01,  7.4350e-02],\n",
              "        [-5.3448e-03,  1.2974e-01,  4.1030e-02, -1.1906e-01, -9.0849e-02],\n",
              "        [ 7.4819e-02,  2.8404e-02, -1.6587e-02, -1.4480e-02, -2.0105e-02]],\n",
              "       device='cuda:0')"
            ]
          },
          "execution_count": 57,
          "metadata": {},
          "output_type": "execute_result"
        }
      ],
      "source": [
        "X_train"
      ]
    },
    {
      "cell_type": "code",
      "execution_count": 58,
      "id": "TKANB-DvxWOL",
      "metadata": {
        "id": "TKANB-DvxWOL"
      },
      "outputs": [],
      "source": [
        "y_pred = []"
      ]
    },
    {
      "cell_type": "code",
      "execution_count": 59,
      "id": "fWJSKVtNxfZc",
      "metadata": {
        "id": "fWJSKVtNxfZc"
      },
      "outputs": [],
      "source": [
        "for test in X_test:\n",
        "  MIN_DIST = 999999\n",
        "  classVal = 0\n",
        "  for train in X_train:\n",
        "    dist = torch.norm(train - test)\n",
        "    if dist < MIN_DIST:\n",
        "      MIN_DIST = dist\n",
        "      for t, y in zip(X_train, y_train):\n",
        "        comparison = t == train\n",
        "        equal_arrays = comparison.all()\n",
        "        if equal_arrays:\n",
        "          classVal = y\n",
        "          break\n",
        "  y_pred.append(classVal)"
      ]
    },
    {
      "cell_type": "code",
      "execution_count": 60,
      "id": "a0O6escNrQA4",
      "metadata": {
        "colab": {
          "base_uri": "https://localhost:8080/"
        },
        "id": "a0O6escNrQA4",
        "outputId": "38a3f7cc-1a04-4919-fb8a-bd05ea71cd15",
        "scrolled": true
      },
      "outputs": [
        {
          "data": {
            "text/plain": [
              "([1,\n",
              "  1,\n",
              "  0,\n",
              "  1,\n",
              "  0,\n",
              "  1,\n",
              "  0,\n",
              "  0,\n",
              "  0,\n",
              "  1,\n",
              "  1,\n",
              "  1,\n",
              "  0,\n",
              "  0,\n",
              "  0,\n",
              "  1,\n",
              "  1,\n",
              "  0,\n",
              "  0,\n",
              "  1,\n",
              "  1,\n",
              "  1,\n",
              "  0,\n",
              "  1,\n",
              "  0,\n",
              "  1,\n",
              "  1,\n",
              "  0,\n",
              "  0,\n",
              "  1,\n",
              "  1,\n",
              "  0,\n",
              "  1,\n",
              "  1,\n",
              "  0,\n",
              "  1,\n",
              "  1,\n",
              "  0,\n",
              "  0,\n",
              "  0],\n",
              " 107    1\n",
              " 132    1\n",
              " 93     0\n",
              " 194    1\n",
              " 31     0\n",
              " 121    1\n",
              " 42     0\n",
              " 103    0\n",
              " 59     0\n",
              " 62     1\n",
              " 167    1\n",
              " 162    1\n",
              " 129    0\n",
              " 199    0\n",
              " 37     0\n",
              " 66     1\n",
              " 55     1\n",
              " 182    0\n",
              " 41     0\n",
              " 193    1\n",
              " 70     1\n",
              " 159    1\n",
              " 19     0\n",
              " 83     1\n",
              " 186    0\n",
              " 63     0\n",
              " 154    1\n",
              " 84     0\n",
              " 69     0\n",
              " 138    0\n",
              " 28     1\n",
              " 146    0\n",
              " 196    1\n",
              " 80     1\n",
              " 81     0\n",
              " 189    1\n",
              " 95     1\n",
              " 74     0\n",
              " 180    0\n",
              " 27     0\n",
              " Name: conterfeit, dtype: int64)"
            ]
          },
          "execution_count": 60,
          "metadata": {},
          "output_type": "execute_result"
        }
      ],
      "source": [
        "y_pred,y_test"
      ]
    },
    {
      "cell_type": "code",
      "execution_count": 61,
      "id": "CplP7DH0rh5N",
      "metadata": {
        "colab": {
          "base_uri": "https://localhost:8080/"
        },
        "id": "CplP7DH0rh5N",
        "outputId": "b3b8c9a6-6ef1-4f12-c4e8-70a17e3e7ecb"
      },
      "outputs": [
        {
          "data": {
            "text/plain": [
              "array([[19,  2],\n",
              "       [ 0, 19]])"
            ]
          },
          "execution_count": 61,
          "metadata": {},
          "output_type": "execute_result"
        }
      ],
      "source": [
        "cf_matrix = confusion_matrix(y_test, y_pred)\n",
        "cf_matrix"
      ]
    },
    {
      "cell_type": "code",
      "execution_count": 62,
      "id": "wSLE8BEZroKF",
      "metadata": {
        "colab": {
          "base_uri": "https://localhost:8080/",
          "height": 622
        },
        "id": "wSLE8BEZroKF",
        "outputId": "1254ebb7-0672-4e6d-cb51-7ff11ccedc74"
      },
      "outputs": [
        {
          "data": {
            "text/plain": [
              "<Axes: >"
            ]
          },
          "execution_count": 62,
          "metadata": {},
          "output_type": "execute_result"
        },
        {
          "data": {
            "image/png": "[encoded data removed]",
            "text/plain": [
              "<Figure size 1200x700 with 2 Axes>"
            ]
          },
          "metadata": {},
          "output_type": "display_data"
        }
      ],
      "source": [
        "classes = ['Not Counterfiet','Counterfiet']\n",
        "df_cm = pd.DataFrame(cf_matrix / np.sum(cf_matrix, axis=1)[:, None], index = [i for i in classes],\n",
        "                     columns = [i for i in classes])\n",
        "plt.figure(figsize = (12,7))\n",
        "sn.heatmap(df_cm, annot=True)"
      ]
    },
    {
      "cell_type": "code",
      "execution_count": null,
      "id": "AWChmhJqrs2u",
      "metadata": {
        "id": "AWChmhJqrs2u"
      },
      "outputs": [],
      "source": []
    }
  ],
  "metadata": {
    "accelerator": "GPU",
    "colab": {
      "provenance": []
    },
    "gpuClass": "standard",
    "kernelspec": {
      "display_name": "Python 3 (ipykernel)",
      "language": "python",
      "name": "python3"
    },
    "language_info": {
      "codemirror_mode": {
        "name": "ipython",
        "version": 3
      },
      "file_extension": ".py",
      "mimetype": "text/x-python",
      "name": "python",
      "nbconvert_exporter": "python",
      "pygments_lexer": "ipython3",
      "version": "3.10.6"
    }
  },
  "nbformat": 4,
  "nbformat_minor": 5
}
