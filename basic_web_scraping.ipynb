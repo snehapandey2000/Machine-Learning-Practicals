{
  "cells": [
    {
      "cell_type": "code",
      "execution_count": 1,
      "metadata": {
        "id": "-WZzFT5mTR2G"
      },
      "outputs": [],
      "source": [
        "import requests\n",
        "from bs4 import BeautifulSoup as soup\n",
        "import csv"
      ]
    },
    {
      "cell_type": "code",
      "execution_count": 2,
      "metadata": {
        "colab": {
          "base_uri": "https://localhost:8080/",
          "height": 35
        },
        "id": "YJLj2LBcT-eo",
        "outputId": "88be1ac2-6142-4c7f-e454-852c0a588609"
      },
      "outputs": [
        {
          "data": {
            "text/plain": [
              "'print out html'"
            ]
          },
          "execution_count": 2,
          "metadata": {},
          "output_type": "execute_result"
        }
      ],
      "source": [
        "source = requests.get(\"https://www.canadapost-postescanada.ca/cpc/en/personal/sending/letters-mail/postage-rates.page\")\n",
        "\n",
        "\"\"\"convert to beautiful soup object\"\"\" \n",
        "webpage = soup(source.content, features=\"html.parser\")\n",
        "\n",
        "\"\"\"print out html\"\"\"\n",
        "#print ((webpage.prettify()))"
      ]
    },
    {
      "cell_type": "code",
      "execution_count": 3,
      "metadata": {
        "id": "_Bqnd-9IUsSH"
      },
      "outputs": [],
      "source": [
        "weight = []\n",
        "price = []\n",
        "\n",
        "for i in webpage.find_all(class_='cpc-postage-table'):\n",
        "  string = i.p.text #find and find all returns whole tag but since just the text is needed, it is converted to\n",
        "  weight.append(string.strip()) #.strip function clears empty spaces before and after text\n",
        "\n",
        "for i in webpage.find_all(class_='cpc-postage-table'):\n",
        "  string = i.text #find and find all returns whole tag but since just the text is needed, it is c\n",
        "  substring = string.rpartition ('$') [2]\n",
        "  price.append(substring.strip())\n",
        "\n"
      ]
    },
    {
      "cell_type": "code",
      "execution_count": 4,
      "metadata": {
        "colab": {
          "base_uri": "https://localhost:8080/"
        },
        "id": "Edp4Kk3xaZky",
        "outputId": "f75c8425-49ec-4c1e-db01-5df48ffc676f"
      },
      "outputs": [
        {
          "name": "stdout",
          "output_type": "stream",
          "text": [
            "['Up to 30 gUp to 5 sheets of paper*', 'Up to 100 gUp to 20 sheets of paper*', 'Up to 30 gUp to 5 sheets of paper*', 'Up to 100 gUp to 20 sheets of paper*', 'Up to 30 gUp to 5 sheets of paper*', 'Up to 100 gUp to 20 sheets of paper*']\n",
            "['1.30', '5.47', '1.94', '11.14', '3.88', '22.28']\n"
          ]
        }
      ],
      "source": [
        "print(weight)\n",
        "print(price)"
      ]
    },
    {
      "cell_type": "code",
      "execution_count": 5,
      "metadata": {
        "id": "i2dCLkeMYV0u"
      },
      "outputs": [],
      "source": [
        "file_name = 'weightsandPrices.csv' #title of excel file\n",
        "with open (file_name, \"w\", encoding=\"utf-8\") as f:\n",
        "  f.write = csv.writer (f)\n",
        "  f.write.writerow(['No.', 'Weight', 'Price ($)']) #the headers of the excel file\n",
        "  \n",
        "  #for loop cycles through the arrays and prints out on each row in the excel file:\n",
        "  for i in range (len (price)):\n",
        "    f.write.writerow([i+1, weight[i], price[i]])"
      ]
    },
    {
      "cell_type": "code",
      "execution_count": 6,
      "metadata": {
        "colab": {
          "base_uri": "https://localhost:8080/",
          "height": 238
        },
        "id": "apacU_y4ZDpz",
        "outputId": "0c037112-8d67-4f97-e70b-b79516e750b7"
      },
      "outputs": [
        {
          "data": {
            "text/html": [
              "<div>\n",
              "<style scoped>\n",
              "    .dataframe tbody tr th:only-of-type {\n",
              "        vertical-align: middle;\n",
              "    }\n",
              "\n",
              "    .dataframe tbody tr th {\n",
              "        vertical-align: top;\n",
              "    }\n",
              "\n",
              "    .dataframe thead th {\n",
              "        text-align: right;\n",
              "    }\n",
              "</style>\n",
              "<table border=\"1\" class=\"dataframe\">\n",
              "  <thead>\n",
              "    <tr style=\"text-align: right;\">\n",
              "      <th></th>\n",
              "      <th>No.</th>\n",
              "      <th>Weight</th>\n",
              "      <th>Price ($)</th>\n",
              "    </tr>\n",
              "  </thead>\n",
              "  <tbody>\n",
              "    <tr>\n",
              "      <th>0</th>\n",
              "      <td>1</td>\n",
              "      <td>Up to 30 gUp to 5 sheets of paper*</td>\n",
              "      <td>1.30</td>\n",
              "    </tr>\n",
              "    <tr>\n",
              "      <th>1</th>\n",
              "      <td>2</td>\n",
              "      <td>Up to 100 gUp to 20 sheets of paper*</td>\n",
              "      <td>5.47</td>\n",
              "    </tr>\n",
              "    <tr>\n",
              "      <th>2</th>\n",
              "      <td>3</td>\n",
              "      <td>Up to 30 gUp to 5 sheets of paper*</td>\n",
              "      <td>1.94</td>\n",
              "    </tr>\n",
              "    <tr>\n",
              "      <th>3</th>\n",
              "      <td>4</td>\n",
              "      <td>Up to 100 gUp to 20 sheets of paper*</td>\n",
              "      <td>11.14</td>\n",
              "    </tr>\n",
              "    <tr>\n",
              "      <th>4</th>\n",
              "      <td>5</td>\n",
              "      <td>Up to 30 gUp to 5 sheets of paper*</td>\n",
              "      <td>3.88</td>\n",
              "    </tr>\n",
              "    <tr>\n",
              "      <th>5</th>\n",
              "      <td>6</td>\n",
              "      <td>Up to 100 gUp to 20 sheets of paper*</td>\n",
              "      <td>22.28</td>\n",
              "    </tr>\n",
              "  </tbody>\n",
              "</table>\n",
              "</div>"
            ],
            "text/plain": [
              "   No.                                Weight  Price ($)\n",
              "0    1    Up to 30 gUp to 5 sheets of paper*       1.30\n",
              "1    2  Up to 100 gUp to 20 sheets of paper*       5.47\n",
              "2    3    Up to 30 gUp to 5 sheets of paper*       1.94\n",
              "3    4  Up to 100 gUp to 20 sheets of paper*      11.14\n",
              "4    5    Up to 30 gUp to 5 sheets of paper*       3.88\n",
              "5    6  Up to 100 gUp to 20 sheets of paper*      22.28"
            ]
          },
          "metadata": {},
          "output_type": "display_data"
        }
      ],
      "source": [
        "import pandas as pd\n",
        "\n",
        "url = file_name\n",
        "df1 = pd.read_csv(url)\n",
        "# Dataset is now stored in a Pandas Dataframe\n",
        "\n",
        "# df1.head()\n",
        "display(df1)"
      ]
    }
  ],
  "metadata": {
    "colab": {
      "provenance": []
    },
    "kernelspec": {
      "display_name": "Python 3",
      "language": "python",
      "name": "python3"
    },
    "language_info": {
      "codemirror_mode": {
        "name": "ipython",
        "version": 3
      },
      "file_extension": ".py",
      "mimetype": "text/x-python",
      "name": "python",
      "nbconvert_exporter": "python",
      "pygments_lexer": "ipython3",
      "version": "3.8.2"
    },
    "vscode": {
      "interpreter": {
        "hash": "174ee4fed433113511d9134ab5df782b3b46c0077418a4b94e6615b3d0724d3e"
      }
    }
  },
  "nbformat": 4,
  "nbformat_minor": 0
}
