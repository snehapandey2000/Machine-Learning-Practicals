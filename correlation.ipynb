{
 "cells": [
  {
   "cell_type": "code",
   "execution_count": null,
   "metadata": {},
   "outputs": [],
   "source": [
    "import pandas as pd\n",
    "import numpy as np\n",
    "import matplotlib.pyplot as plt\n",
    "import seaborn as sns\n",
    "from sklearn.datasets import load_boston\n",
    "\n",
    "def pearson_correlation(x, y):\n",
    "    x_mean = x.mean()\n",
    "    y_mean = y.mean()\n",
    "    numerator = sum((x - x_mean) * (y - y_mean))\n",
    "    denominator = ((sum((x - x_mean)*2)) * (sum((y - y_mean)2)))*0.5\n",
    "    return numerator / denominator\n",
    "\n",
    "# Load the Boston Housing dataset\n",
    "boston = load_boston()\n",
    "X = pd.DataFrame(boston.data, columns=boston.feature_names)\n",
    "y = pd.Series(boston.target, name='target')\n",
    "\n",
    "# Compute correlation coefficients\n",
    "correlation_coefficients = {}\n",
    "for column in X.columns:\n",
    "    correlation_coefficients[column] = pearson_correlation(X[column], y)\n",
    "\n",
    "# Visualize the correlation coefficients using a heatmap\n",
    "plt.figure(figsize=(10, 6))\n",
    "sns.heatmap(pd.DataFrame(correlation_coefficients, index=['Correlation']).T,\n",
    "            annot=True, cmap='coolwarm', vmin=-1, vmax=1)\n",
    "plt.title('Feature Correlations with Target Variable')\n",
    "plt.show()\n",
    "\n",
    "# Feature selection using thresholding\n",
    "threshold = 0.5\n",
    "selected_features = [feature for feature, correlation in correlation_coefficients.items() if abs(correlation) > threshold]\n",
    "\n",
    "# Print the features before and after selection\n",
    "print(\"All features:\")\n",
    "print(list(X.columns))\n",
    "print(\"\\nSelected features:\")\n",
    "print(selected_features)\n",
    "\n",
    "# Create a new DataFrame with the selected features\n",
    "X_selected = X[selected_features]\n",
    "\n",
    "# Visualize the selected features correlation coefficients using a heatmap\n",
    "plt.figure(figsize=(10, 6))\n",
    "sns.heatmap(pd.DataFrame(correlation_coefficients, index=['Correlation'], columns=X.columns).T.loc[selected_features],\n",
    "            annot=True, cmap='coolwarm', vmin=-1, vmax=1)\n",
    "plt.title('Selected Feature Correlations with Target Variable')\n",
    "plt.show()"
   ]
  }
 ],
 "metadata": {
  "language_info": {
   "name": "python"
  },
  "orig_nbformat": 4
 },
 "nbformat": 4,
 "nbformat_minor": 2
}
